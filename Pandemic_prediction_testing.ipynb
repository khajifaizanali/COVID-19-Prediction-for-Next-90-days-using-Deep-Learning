{
  "nbformat": 4,
  "nbformat_minor": 0,
  "metadata": {
    "colab": {
      "name": "Pandemic_prediction_testing.ipynb",
      "provenance": []
    },
    "kernelspec": {
      "name": "python3",
      "display_name": "Python 3"
    }
  },
  "cells": [
    {
      "cell_type": "code",
      "metadata": {
        "id": "q5OA04mhqVV7",
        "colab_type": "code",
        "colab": {}
      },
      "source": [
        "import pandas as pd\n",
        "import numpy as np\n"
      ],
      "execution_count": null,
      "outputs": []
    },
    {
      "cell_type": "code",
      "metadata": {
        "id": "kWTeruFnt4pL",
        "colab_type": "code",
        "colab": {}
      },
      "source": [
        "china=pd.read_csv('china.csv')\n",
        "Australia=pd.read_csv('Australia.csv')\n",
        "india=pd.read_csv('India.csv')\n",
        "france=pd.read_csv('france.csv')\n",
        "germany=pd.read_csv('germany.csv')\n",
        "iran=pd.read_csv('iran.csv')\n",
        "italy=pd.read_csv('italy.csv')\n",
        "newzea=pd.read_csv('newzealand.csv')\n",
        "spain=pd.read_csv('spain.csv')"
      ],
      "execution_count": null,
      "outputs": []
    },
    {
      "cell_type": "code",
      "metadata": {
        "id": "B8BGTO1yt1MX",
        "colab_type": "code",
        "colab": {}
      },
      "source": [
        "china.drop(['date'],axis=1,inplace=True)\n",
        "Australia.drop(['date'],axis=1,inplace=True)\n",
        "india.drop(['date'],axis=1,inplace=True)\n",
        "france.drop(['date'],axis=1,inplace=True)\n",
        "germany.drop(['date'],axis=1,inplace=True)\n",
        "iran.drop(['date'],axis=1,inplace=True)\n",
        "italy.drop(['date'],axis=1,inplace=True)\n",
        "newzea.drop(['date'],axis=1,inplace=True)\n",
        "spain.drop(['date'],axis=1,inplace=True)"
      ],
      "execution_count": null,
      "outputs": []
    },
    {
      "cell_type": "code",
      "metadata": {
        "id": "ySjDOyI4t3Sw",
        "colab_type": "code",
        "colab": {
          "base_uri": "https://localhost:8080/",
          "height": 402
        },
        "outputId": "a8195d3b-2217-44ad-ef66-4e12f493af13"
      },
      "source": [
        "china.fillna(china.mean())\n",
        "Australia.fillna(Australia.mean())\n",
        "india.fillna(india.mean())\n",
        "france.fillna(france.mean())\n",
        "germany.fillna(germany.mean())\n",
        "iran.fillna(iran.mean())\n",
        "italy.fillna(italy.mean())\n",
        "newzea.fillna(newzea.mean())\n",
        "spain.fillna(spain.mean())\n",
        "brazil=pd.read_csv('brazil.csv')\n",
        "brazil.drop(['Date'],axis=1,inplace=True)\n",
        "brazil.fillna(brazil.mean())\n",
        "ap=pd.read_csv('ap.csv')\n",
        "ap.drop(['Date'],axis=1,inplace=True)\n",
        "ap.fillna(ap.mean())\n",
        "tg=pd.read_csv('tg.csv')\n",
        "tg.drop(['Date'],axis=1,inplace=True)\n",
        "tg.fillna(tg.mean())\n",
        "\n",
        "czech=pd.read_csv('czech.csv')\n",
        "czech.drop(['Date'],axis=1,inplace=True)\n",
        "czech.fillna(czech.mean())\n",
        "\n",
        "estonia=pd.read_csv('estonia.csv')\n",
        "estonia.drop(['Date'],axis=1,inplace=True)\n",
        "estonia.fillna(estonia.mean())\n",
        "\n",
        "croatia=pd.read_csv('croatia.csv')\n",
        "croatia.drop(['Date'],axis=1,inplace=True)\n",
        "croatia.fillna(croatia.mean())\n",
        "\n",
        "greece=pd.read_csv('greece.csv')\n",
        "greece.drop(['Date'],axis=1,inplace=True)\n",
        "greece.fillna(greece.mean())\n",
        "\n",
        "kerala=pd.read_csv('kerala.csv')\n",
        "kerala.drop(['Date'],axis=1,inplace=True)\n",
        "kerala.fillna(kerala.mean())\n"
      ],
      "execution_count": null,
      "outputs": [
        {
          "output_type": "execute_result",
          "data": {
            "text/html": [
              "<div>\n",
              "<style scoped>\n",
              "    .dataframe tbody tr th:only-of-type {\n",
              "        vertical-align: middle;\n",
              "    }\n",
              "\n",
              "    .dataframe tbody tr th {\n",
              "        vertical-align: top;\n",
              "    }\n",
              "\n",
              "    .dataframe thead th {\n",
              "        text-align: right;\n",
              "    }\n",
              "</style>\n",
              "<table border=\"1\" class=\"dataframe\">\n",
              "  <thead>\n",
              "    <tr style=\"text-align: right;\">\n",
              "      <th></th>\n",
              "      <th>cases</th>\n",
              "      <th>median age</th>\n",
              "      <th>lockdown status</th>\n",
              "      <th>days</th>\n",
              "    </tr>\n",
              "  </thead>\n",
              "  <tbody>\n",
              "    <tr>\n",
              "      <th>0</th>\n",
              "      <td>0</td>\n",
              "      <td>26.8</td>\n",
              "      <td>0</td>\n",
              "      <td>0</td>\n",
              "    </tr>\n",
              "    <tr>\n",
              "      <th>1</th>\n",
              "      <td>0</td>\n",
              "      <td>26.8</td>\n",
              "      <td>0</td>\n",
              "      <td>0</td>\n",
              "    </tr>\n",
              "    <tr>\n",
              "      <th>2</th>\n",
              "      <td>0</td>\n",
              "      <td>26.8</td>\n",
              "      <td>0</td>\n",
              "      <td>0</td>\n",
              "    </tr>\n",
              "    <tr>\n",
              "      <th>3</th>\n",
              "      <td>0</td>\n",
              "      <td>26.8</td>\n",
              "      <td>0</td>\n",
              "      <td>0</td>\n",
              "    </tr>\n",
              "    <tr>\n",
              "      <th>4</th>\n",
              "      <td>0</td>\n",
              "      <td>26.8</td>\n",
              "      <td>0</td>\n",
              "      <td>0</td>\n",
              "    </tr>\n",
              "    <tr>\n",
              "      <th>...</th>\n",
              "      <td>...</td>\n",
              "      <td>...</td>\n",
              "      <td>...</td>\n",
              "      <td>...</td>\n",
              "    </tr>\n",
              "    <tr>\n",
              "      <th>120</th>\n",
              "      <td>10</td>\n",
              "      <td>26.8</td>\n",
              "      <td>1</td>\n",
              "      <td>40</td>\n",
              "    </tr>\n",
              "    <tr>\n",
              "      <th>121</th>\n",
              "      <td>2</td>\n",
              "      <td>26.8</td>\n",
              "      <td>1</td>\n",
              "      <td>41</td>\n",
              "    </tr>\n",
              "    <tr>\n",
              "      <th>122</th>\n",
              "      <td>0</td>\n",
              "      <td>26.8</td>\n",
              "      <td>1</td>\n",
              "      <td>42</td>\n",
              "    </tr>\n",
              "    <tr>\n",
              "      <th>123</th>\n",
              "      <td>2</td>\n",
              "      <td>26.8</td>\n",
              "      <td>1</td>\n",
              "      <td>43</td>\n",
              "    </tr>\n",
              "    <tr>\n",
              "      <th>124</th>\n",
              "      <td>0</td>\n",
              "      <td>26.8</td>\n",
              "      <td>1</td>\n",
              "      <td>44</td>\n",
              "    </tr>\n",
              "  </tbody>\n",
              "</table>\n",
              "<p>125 rows × 4 columns</p>\n",
              "</div>"
            ],
            "text/plain": [
              "     cases  median age  lockdown status  days\n",
              "0        0        26.8                0     0\n",
              "1        0        26.8                0     0\n",
              "2        0        26.8                0     0\n",
              "3        0        26.8                0     0\n",
              "4        0        26.8                0     0\n",
              "..     ...         ...              ...   ...\n",
              "120     10        26.8                1    40\n",
              "121      2        26.8                1    41\n",
              "122      0        26.8                1    42\n",
              "123      2        26.8                1    43\n",
              "124      0        26.8                1    44\n",
              "\n",
              "[125 rows x 4 columns]"
            ]
          },
          "metadata": {
            "tags": []
          },
          "execution_count": 113
        }
      ]
    },
    {
      "cell_type": "code",
      "metadata": {
        "id": "LNdpByeVt90i",
        "colab_type": "code",
        "colab": {
          "base_uri": "https://localhost:8080/",
          "height": 195
        },
        "outputId": "b77b71e0-1a7b-40b0-b5d4-d3d5b1ae28d8"
      },
      "source": [
        "czech.head()"
      ],
      "execution_count": null,
      "outputs": [
        {
          "output_type": "execute_result",
          "data": {
            "text/html": [
              "<div>\n",
              "<style scoped>\n",
              "    .dataframe tbody tr th:only-of-type {\n",
              "        vertical-align: middle;\n",
              "    }\n",
              "\n",
              "    .dataframe tbody tr th {\n",
              "        vertical-align: top;\n",
              "    }\n",
              "\n",
              "    .dataframe thead th {\n",
              "        text-align: right;\n",
              "    }\n",
              "</style>\n",
              "<table border=\"1\" class=\"dataframe\">\n",
              "  <thead>\n",
              "    <tr style=\"text-align: right;\">\n",
              "      <th></th>\n",
              "      <th>cases</th>\n",
              "      <th>pop de</th>\n",
              "      <th>median age</th>\n",
              "      <th>lockdown status</th>\n",
              "      <th>days</th>\n",
              "    </tr>\n",
              "  </thead>\n",
              "  <tbody>\n",
              "    <tr>\n",
              "      <th>0</th>\n",
              "      <td>0</td>\n",
              "      <td>134</td>\n",
              "      <td>41.4</td>\n",
              "      <td>0</td>\n",
              "      <td>0</td>\n",
              "    </tr>\n",
              "    <tr>\n",
              "      <th>1</th>\n",
              "      <td>0</td>\n",
              "      <td>134</td>\n",
              "      <td>41.4</td>\n",
              "      <td>0</td>\n",
              "      <td>0</td>\n",
              "    </tr>\n",
              "    <tr>\n",
              "      <th>2</th>\n",
              "      <td>0</td>\n",
              "      <td>134</td>\n",
              "      <td>41.4</td>\n",
              "      <td>0</td>\n",
              "      <td>0</td>\n",
              "    </tr>\n",
              "    <tr>\n",
              "      <th>3</th>\n",
              "      <td>0</td>\n",
              "      <td>134</td>\n",
              "      <td>41.4</td>\n",
              "      <td>0</td>\n",
              "      <td>0</td>\n",
              "    </tr>\n",
              "    <tr>\n",
              "      <th>4</th>\n",
              "      <td>0</td>\n",
              "      <td>134</td>\n",
              "      <td>41.4</td>\n",
              "      <td>0</td>\n",
              "      <td>0</td>\n",
              "    </tr>\n",
              "  </tbody>\n",
              "</table>\n",
              "</div>"
            ],
            "text/plain": [
              "   cases  pop de  median age  lockdown status  days\n",
              "0      0     134        41.4                0     0\n",
              "1      0     134        41.4                0     0\n",
              "2      0     134        41.4                0     0\n",
              "3      0     134        41.4                0     0\n",
              "4      0     134        41.4                0     0"
            ]
          },
          "metadata": {
            "tags": []
          },
          "execution_count": 114
        }
      ]
    },
    {
      "cell_type": "code",
      "metadata": {
        "id": "DAbY-dLjuAVM",
        "colab_type": "code",
        "colab": {
          "base_uri": "https://localhost:8080/",
          "height": 282
        },
        "outputId": "ffa3051d-d9b1-4ba4-9896-a4dc3292f3f1"
      },
      "source": [
        "from matplotlib import pyplot as plt\n",
        "plt.figure()\n",
        "plt.plot(czech[\"cases\"])"
      ],
      "execution_count": null,
      "outputs": [
        {
          "output_type": "execute_result",
          "data": {
            "text/plain": [
              "[<matplotlib.lines.Line2D at 0x7f8100013f60>]"
            ]
          },
          "metadata": {
            "tags": []
          },
          "execution_count": 115
        },
        {
          "output_type": "display_data",
          "data": {
            "image/png": "[encoded data removed]",
            "text/plain": [
              "<Figure size 432x288 with 1 Axes>"
            ]
          },
          "metadata": {
            "tags": [],
            "needs_background": "light"
          }
        }
      ]
    },
    {
      "cell_type": "code",
      "metadata": {
        "id": "WaZya0Ghvhbb",
        "colab_type": "code",
        "colab": {}
      },
      "source": [
        ""
      ],
      "execution_count": null,
      "outputs": []
    },
    {
      "cell_type": "code",
      "metadata": {
        "id": "8Jkd-eYWucVV",
        "colab_type": "code",
        "colab": {}
      },
      "source": [
        "X_train = []\n",
        "y_train = []\n",
        "for i in range(3,119):\n",
        "  X_train.append(np.array(china.iloc[i-3:i,0:5]))\n",
        "  y_train.append(china.iloc[i][0])\n",
        "for i in range(3,119):\n",
        "  X_train.append(np.array(Australia.iloc[i-3:i,0:5]))\n",
        "  y_train.append(Australia.iloc[i][0])\n",
        "for i in range(3,119):\n",
        "  X_train.append(np.array(france.iloc[i-3:i,0:5]))\n",
        "  y_train.append(france.iloc[i][0])\n",
        "for i in range(3,119):\n",
        "  X_train.append(np.array(germany.iloc[i-3:i,0:5]))\n",
        "  y_train.append(germany.iloc[i][0])\n",
        "for i in range(3,119):\n",
        "  X_train.append(np.array(iran.iloc[i-3:i,0:5]))\n",
        "  y_train.append(iran.iloc[i][0])\n",
        "for i in range(3,119):\n",
        "  X_train.append(np.array(italy.iloc[i-3:i,0:5]))\n",
        "  y_train.append(italy.iloc[i][0])\n",
        "for i in range(3,119):\n",
        "  X_train.append(np.array(newzea.iloc[i-3:i,0:5]))\n",
        "  y_train.append(newzea.iloc[i][0])\n",
        "for i in range(3,119):\n",
        "  X_train.append(np.array(spain.iloc[i-3:i,0:5]))\n",
        "  y_train.append(spain.iloc[i][0])\n",
        "for i in range(3,118):\n",
        "  X_train.append(np.array(brazil.iloc[i-3:i,0:5]))\n",
        "  y_train.append(brazil.iloc[i][0])\n",
        "\n",
        "for i in range(3,126):\n",
        "  X_train.append(np.array(czech.iloc[i-3:i,0:5]))\n",
        "  y_train.append(czech.iloc[i][0])\n",
        "for i in range(3,126):\n",
        "  X_train.append(np.array(greece.iloc[i-3:i,0:5]))\n",
        "  y_train.append(greece.iloc[i][0])\n",
        "# for i in range(3,126):\n",
        "#   X_train.append(np.array(croatia.iloc[i-3:i,0:5]))\n",
        "#   y_train.append(croatia.iloc[i][0])\n",
        "# # for i in range(3,126):\n",
        "# #   X_train.append(np.array(estonia.iloc[i-3:i,0:5]))\n",
        "# #   y_train.append(estonia.iloc[i][0])\n",
        "\n"
      ],
      "execution_count": null,
      "outputs": []
    },
    {
      "cell_type": "code",
      "metadata": {
        "id": "3bE0W5WJvggK",
        "colab_type": "code",
        "colab": {}
      },
      "source": [
        "X_test=[]\n",
        "y_test=[]\n",
        "for i in range(3,119):\n",
        "  X_test.append(np.array(india.iloc[i-3:i,0:5]))\n",
        "  y_test.append(india.iloc[i][0])\n",
        "\n",
        "X_test_ap=[]\n",
        "y_test_ap=[]\n",
        "\n",
        "for i in range(3,125):\n",
        "  X_test_ap.append(np.array(ap.iloc[i-3:i,0:5]))\n",
        "  y_test_ap.append(ap.iloc[i][0])\n",
        "\n",
        "X_test_tg=[]\n",
        "y_test_tg=[]\n",
        "\n",
        "for i in range(3,125):\n",
        "  X_test_tg.append(np.array(tg.iloc[i-3:i,0:5]))\n",
        "  y_test_tg.append(tg.iloc[i][0])"
      ],
      "execution_count": null,
      "outputs": []
    },
    {
      "cell_type": "code",
      "metadata": {
        "id": "otfktOsCv5Tw",
        "colab_type": "code",
        "colab": {
          "base_uri": "https://localhost:8080/",
          "height": 1000
        },
        "outputId": "f0dba85f-118e-424e-e050-0ad30b18214c"
      },
      "source": [
        "X_test"
      ],
      "execution_count": null,
      "outputs": [
        {
          "output_type": "execute_result",
          "data": {
            "text/plain": [
              "[array([[  0. , 464. ,  26.8,   0. ,   nan],\n",
              "        [  0. , 464. ,  26.8,   0. ,   nan],\n",
              "        [  0. , 464. ,  26.8,   0. ,   nan]]),\n",
              " array([[  0. , 464. ,  26.8,   0. ,   nan],\n",
              "        [  0. , 464. ,  26.8,   0. ,   nan],\n",
              "        [  0. , 464. ,  26.8,   0. ,   nan]]),\n",
              " array([[  0. , 464. ,  26.8,   0. ,   nan],\n",
              "        [  0. , 464. ,  26.8,   0. ,   nan],\n",
              "        [  0. , 464. ,  26.8,   0. ,   nan]]),\n",
              " array([[  0. , 464. ,  26.8,   0. ,   nan],\n",
              "        [  0. , 464. ,  26.8,   0. ,   nan],\n",
              "        [  0. , 464. ,  26.8,   0. ,   nan]]),\n",
              " array([[  0. , 464. ,  26.8,   0. ,   nan],\n",
              "        [  0. , 464. ,  26.8,   0. ,   nan],\n",
              "        [  0. , 464. ,  26.8,   0. ,   nan]]),\n",
              " array([[  0. , 464. ,  26.8,   0. ,   nan],\n",
              "        [  0. , 464. ,  26.8,   0. ,   nan],\n",
              "        [  0. , 464. ,  26.8,   0. ,   nan]]),\n",
              " array([[  0. , 464. ,  26.8,   0. ,   nan],\n",
              "        [  0. , 464. ,  26.8,   0. ,   nan],\n",
              "        [  0. , 464. ,  26.8,   0. ,   nan]]),\n",
              " array([[  0. , 464. ,  26.8,   0. ,   nan],\n",
              "        [  0. , 464. ,  26.8,   0. ,   nan],\n",
              "        [  0. , 464. ,  26.8,   0. ,   nan]]),\n",
              " array([[  0. , 464. ,  26.8,   0. ,   nan],\n",
              "        [  0. , 464. ,  26.8,   0. ,   nan],\n",
              "        [  0. , 464. ,  26.8,   0. ,   nan]]),\n",
              " array([[  0. , 464. ,  26.8,   0. ,   nan],\n",
              "        [  0. , 464. ,  26.8,   0. ,   nan],\n",
              "        [  0. , 464. ,  26.8,   0. ,   nan]]),\n",
              " array([[  0. , 464. ,  26.8,   0. ,   nan],\n",
              "        [  0. , 464. ,  26.8,   0. ,   nan],\n",
              "        [  0. , 464. ,  26.8,   0. ,   nan]]),\n",
              " array([[  0. , 464. ,  26.8,   0. ,   nan],\n",
              "        [  0. , 464. ,  26.8,   0. ,   nan],\n",
              "        [  0. , 464. ,  26.8,   0. ,   nan]]),\n",
              " array([[  0. , 464. ,  26.8,   0. ,   nan],\n",
              "        [  0. , 464. ,  26.8,   0. ,   nan],\n",
              "        [  0. , 464. ,  26.8,   0. ,   nan]]),\n",
              " array([[  0. , 464. ,  26.8,   0. ,   nan],\n",
              "        [  0. , 464. ,  26.8,   0. ,   nan],\n",
              "        [  0. , 464. ,  26.8,   0. ,   nan]]),\n",
              " array([[  0. , 464. ,  26.8,   0. ,   nan],\n",
              "        [  0. , 464. ,  26.8,   0. ,   nan],\n",
              "        [  0. , 464. ,  26.8,   0. ,   nan]]),\n",
              " array([[  0. , 464. ,  26.8,   0. ,   nan],\n",
              "        [  0. , 464. ,  26.8,   0. ,   nan],\n",
              "        [  0. , 464. ,  26.8,   0. ,   nan]]),\n",
              " array([[  0. , 464. ,  26.8,   0. ,   nan],\n",
              "        [  0. , 464. ,  26.8,   0. ,   nan],\n",
              "        [  0. , 464. ,  26.8,   0. ,   nan]]),\n",
              " array([[  0. , 464. ,  26.8,   0. ,   nan],\n",
              "        [  0. , 464. ,  26.8,   0. ,   nan],\n",
              "        [  0. , 464. ,  26.8,   0. ,   nan]]),\n",
              " array([[  0. , 464. ,  26.8,   0. ,   nan],\n",
              "        [  0. , 464. ,  26.8,   0. ,   nan],\n",
              "        [  0. , 464. ,  26.8,   0. ,   nan]]),\n",
              " array([[  0. , 464. ,  26.8,   0. ,   nan],\n",
              "        [  0. , 464. ,  26.8,   0. ,   nan],\n",
              "        [  0. , 464. ,  26.8,   0. ,   nan]]),\n",
              " array([[  0. , 464. ,  26.8,   0. ,   nan],\n",
              "        [  0. , 464. ,  26.8,   0. ,   nan],\n",
              "        [  0. , 464. ,  26.8,   0. ,   nan]]),\n",
              " array([[  0. , 464. ,  26.8,   0. ,   nan],\n",
              "        [  0. , 464. ,  26.8,   0. ,   nan],\n",
              "        [  0. , 464. ,  26.8,   0. ,   nan]]),\n",
              " array([[  0. , 464. ,  26.8,   0. ,   nan],\n",
              "        [  0. , 464. ,  26.8,   0. ,   nan],\n",
              "        [  0. , 464. ,  26.8,   0. ,   nan]]),\n",
              " array([[  0. , 464. ,  26.8,   0. ,   nan],\n",
              "        [  0. , 464. ,  26.8,   0. ,   nan],\n",
              "        [  0. , 464. ,  26.8,   0. ,   nan]]),\n",
              " array([[  0. , 464. ,  26.8,   0. ,   nan],\n",
              "        [  0. , 464. ,  26.8,   0. ,   nan],\n",
              "        [  0. , 464. ,  26.8,   0. ,   nan]]),\n",
              " array([[  0. , 464. ,  26.8,   0. ,   nan],\n",
              "        [  0. , 464. ,  26.8,   0. ,   nan],\n",
              "        [  0. , 464. ,  26.8,   0. ,   nan]]),\n",
              " array([[  0. , 464. ,  26.8,   0. ,   nan],\n",
              "        [  0. , 464. ,  26.8,   0. ,   nan],\n",
              "        [  0. , 464. ,  26.8,   0. ,   nan]]),\n",
              " array([[  0. , 464. ,  26.8,   0. ,   nan],\n",
              "        [  0. , 464. ,  26.8,   0. ,   nan],\n",
              "        [  0. , 464. ,  26.8,   0. ,   nan]]),\n",
              " array([[  0. , 464. ,  26.8,   0. ,   nan],\n",
              "        [  0. , 464. ,  26.8,   0. ,   nan],\n",
              "        [  1. , 464. ,  26.8,   0. ,   nan]]),\n",
              " array([[  0. , 464. ,  26.8,   0. ,   nan],\n",
              "        [  1. , 464. ,  26.8,   0. ,   nan],\n",
              "        [  0. , 464. ,  26.8,   0. ,   nan]]),\n",
              " array([[  1. , 464. ,  26.8,   0. ,   nan],\n",
              "        [  0. , 464. ,  26.8,   0. ,   nan],\n",
              "        [  0. , 464. ,  26.8,   0. ,   nan]]),\n",
              " array([[  0. , 464. ,  26.8,   0. ,   nan],\n",
              "        [  0. , 464. ,  26.8,   0. ,   nan],\n",
              "        [  1. , 464. ,  26.8,   0. ,   nan]]),\n",
              " array([[  0. , 464. ,  26.8,   0. ,   nan],\n",
              "        [  1. , 464. ,  26.8,   0. ,   nan],\n",
              "        [  0. , 464. ,  26.8,   0. ,   nan]]),\n",
              " array([[  1. , 464. ,  26.8,   0. ,   nan],\n",
              "        [  0. , 464. ,  26.8,   0. ,   nan],\n",
              "        [  1. , 464. ,  26.8,   0. ,   nan]]),\n",
              " array([[  0. , 464. ,  26.8,   0. ,   nan],\n",
              "        [  1. , 464. ,  26.8,   0. ,   nan],\n",
              "        [  0. , 464. ,  26.8,   0. ,   nan]]),\n",
              " array([[  1. , 464. ,  26.8,   0. ,   nan],\n",
              "        [  0. , 464. ,  26.8,   0. ,   nan],\n",
              "        [  0. , 464. ,  26.8,   0. ,   nan]]),\n",
              " array([[  0. , 464. ,  26.8,   0. ,   nan],\n",
              "        [  0. , 464. ,  26.8,   0. ,   nan],\n",
              "        [  0. , 464. ,  26.8,   0. ,   nan]]),\n",
              " array([[  0. , 464. ,  26.8,   0. ,   nan],\n",
              "        [  0. , 464. ,  26.8,   0. ,   nan],\n",
              "        [  0. , 464. ,  26.8,   0. ,   nan]]),\n",
              " array([[  0. , 464. ,  26.8,   0. ,   nan],\n",
              "        [  0. , 464. ,  26.8,   0. ,   nan],\n",
              "        [  0. , 464. ,  26.8,   0. ,   nan]]),\n",
              " array([[  0. , 464. ,  26.8,   0. ,   nan],\n",
              "        [  0. , 464. ,  26.8,   0. ,   nan],\n",
              "        [  0. , 464. ,  26.8,   0. ,   nan]]),\n",
              " array([[  0. , 464. ,  26.8,   0. ,   nan],\n",
              "        [  0. , 464. ,  26.8,   0. ,   nan],\n",
              "        [  0. , 464. ,  26.8,   0. ,   nan]]),\n",
              " array([[  0. , 464. ,  26.8,   0. ,   nan],\n",
              "        [  0. , 464. ,  26.8,   0. ,   nan],\n",
              "        [  0. , 464. ,  26.8,   0. ,   nan]]),\n",
              " array([[  0. , 464. ,  26.8,   0. ,   nan],\n",
              "        [  0. , 464. ,  26.8,   0. ,   nan],\n",
              "        [  0. , 464. ,  26.8,   0. ,   nan]]),\n",
              " array([[  0. , 464. ,  26.8,   0. ,   nan],\n",
              "        [  0. , 464. ,  26.8,   0. ,   nan],\n",
              "        [  0. , 464. ,  26.8,   0. ,   nan]]),\n",
              " array([[  0. , 464. ,  26.8,   0. ,   nan],\n",
              "        [  0. , 464. ,  26.8,   0. ,   nan],\n",
              "        [  0. , 464. ,  26.8,   0. ,   nan]]),\n",
              " array([[  0. , 464. ,  26.8,   0. ,   nan],\n",
              "        [  0. , 464. ,  26.8,   0. ,   nan],\n",
              "        [  0. , 464. ,  26.8,   0. ,   nan]]),\n",
              " array([[  0. , 464. ,  26.8,   0. ,   nan],\n",
              "        [  0. , 464. ,  26.8,   0. ,   nan],\n",
              "        [  0. , 464. ,  26.8,   0. ,   nan]]),\n",
              " array([[  0. , 464. ,  26.8,   0. ,   nan],\n",
              "        [  0. , 464. ,  26.8,   0. ,   nan],\n",
              "        [  0. , 464. ,  26.8,   0. ,   nan]]),\n",
              " array([[  0. , 464. ,  26.8,   0. ,   nan],\n",
              "        [  0. , 464. ,  26.8,   0. ,   nan],\n",
              "        [  0. , 464. ,  26.8,   0. ,   nan]]),\n",
              " array([[  0. , 464. ,  26.8,   0. ,   nan],\n",
              "        [  0. , 464. ,  26.8,   0. ,   nan],\n",
              "        [  0. , 464. ,  26.8,   0. ,   nan]]),\n",
              " array([[  0. , 464. ,  26.8,   0. ,   nan],\n",
              "        [  0. , 464. ,  26.8,   0. ,   nan],\n",
              "        [  0. , 464. ,  26.8,   0. ,   nan]]),\n",
              " array([[  0. , 464. ,  26.8,   0. ,   nan],\n",
              "        [  0. , 464. ,  26.8,   0. ,   nan],\n",
              "        [  0. , 464. ,  26.8,   0. ,   nan]]),\n",
              " array([[  0. , 464. ,  26.8,   0. ,   nan],\n",
              "        [  0. , 464. ,  26.8,   0. ,   nan],\n",
              "        [  0. , 464. ,  26.8,   0. ,   nan]]),\n",
              " array([[  0. , 464. ,  26.8,   0. ,   nan],\n",
              "        [  0. , 464. ,  26.8,   0. ,   nan],\n",
              "        [  0. , 464. ,  26.8,   0. ,   nan]]),\n",
              " array([[  0. , 464. ,  26.8,   0. ,   nan],\n",
              "        [  0. , 464. ,  26.8,   0. ,   nan],\n",
              "        [  0. , 464. ,  26.8,   0. ,   nan]]),\n",
              " array([[  0. , 464. ,  26.8,   0. ,   nan],\n",
              "        [  0. , 464. ,  26.8,   0. ,   nan],\n",
              "        [  0. , 464. ,  26.8,   0. ,   nan]]),\n",
              " array([[  0. , 464. ,  26.8,   0. ,   nan],\n",
              "        [  0. , 464. ,  26.8,   0. ,   nan],\n",
              "        [  0. , 464. ,  26.8,   0. ,   nan]]),\n",
              " array([[  0. , 464. ,  26.8,   0. ,   nan],\n",
              "        [  0. , 464. ,  26.8,   0. ,   nan],\n",
              "        [  0. , 464. ,  26.8,   0. ,   nan]]),\n",
              " array([[  0. , 464. ,  26.8,   0. ,   nan],\n",
              "        [  0. , 464. ,  26.8,   0. ,   nan],\n",
              "        [  0. , 464. ,  26.8,   0. ,   nan]]),\n",
              " array([[  0. , 464. ,  26.8,   0. ,   nan],\n",
              "        [  0. , 464. ,  26.8,   0. ,   nan],\n",
              "        [  0. , 464. ,  26.8,   0. ,   nan]]),\n",
              " array([[  0. , 464. ,  26.8,   0. ,   nan],\n",
              "        [  0. , 464. ,  26.8,   0. ,   nan],\n",
              "        [  0. , 464. ,  26.8,   0. ,   nan]]),\n",
              " array([[  0. , 464. ,  26.8,   0. ,   nan],\n",
              "        [  0. , 464. ,  26.8,   0. ,   nan],\n",
              "        [  2. , 464. ,  26.8,   0. ,   nan]]),\n",
              " array([[  0. , 464. ,  26.8,   0. ,   nan],\n",
              "        [  2. , 464. ,  26.8,   0. ,   nan],\n",
              "        [  1. , 464. ,  26.8,   0. ,   nan]]),\n",
              " array([[  2. , 464. ,  26.8,   0. ,   nan],\n",
              "        [  1. , 464. ,  26.8,   0. ,   nan],\n",
              "        [ 22. , 464. ,  26.8,   0. ,   nan]]),\n",
              " array([[  1. , 464. ,  26.8,   0. ,   nan],\n",
              "        [ 22. , 464. ,  26.8,   0. ,   nan],\n",
              "        [  1. , 464. ,  26.8,   0. ,   nan]]),\n",
              " array([[ 22. , 464. ,  26.8,   0. ,   nan],\n",
              "        [  1. , 464. ,  26.8,   0. ,   nan],\n",
              "        [  2. , 464. ,  26.8,   0. ,   nan]]),\n",
              " array([[  1. , 464. ,  26.8,   0. ,   nan],\n",
              "        [  2. , 464. ,  26.8,   0. ,   nan],\n",
              "        [  3. , 464. ,  26.8,   0. ,   nan]]),\n",
              " array([[  2. , 464. ,  26.8,   0. ,   nan],\n",
              "        [  3. , 464. ,  26.8,   0. ,   nan],\n",
              "        [  nan, 464. ,  26.8,   0. ,   nan]]),\n",
              " array([[  3. , 464. ,  26.8,   0. ,   nan],\n",
              "        [  nan, 464. ,  26.8,   0. ,   nan],\n",
              "        [ 10. , 464. ,  26.8,   0. ,   nan]]),\n",
              " array([[  nan, 464. ,  26.8,   0. ,   nan],\n",
              "        [ 10. , 464. ,  26.8,   0. ,   nan],\n",
              "        [  6. , 464. ,  26.8,   0. ,   nan]]),\n",
              " array([[ 10. , 464. ,  26.8,   0. ,   nan],\n",
              "        [  6. , 464. ,  26.8,   0. ,   nan],\n",
              "        [ 23. , 464. ,  26.8,   0. ,   nan]]),\n",
              " array([[  6. , 464. ,  26.8,   0. ,   nan],\n",
              "        [ 23. , 464. ,  26.8,   0. ,   nan],\n",
              "        [  2. , 464. ,  26.8,   0. ,   nan]]),\n",
              " array([[ 23. , 464. ,  26.8,   0. ,   nan],\n",
              "        [  2. , 464. ,  26.8,   0. ,   nan],\n",
              "        [  8. , 464. ,  26.8,   0. ,   nan]]),\n",
              " array([[  2. , 464. ,  26.8,   0. ,   nan],\n",
              "        [  8. , 464. ,  26.8,   0. ,   nan],\n",
              "        [  7. , 464. ,  26.8,   0. ,   nan]]),\n",
              " array([[  8. , 464. ,  26.8,   0. ,   nan],\n",
              "        [  7. , 464. ,  26.8,   0. ,   nan],\n",
              "        [  3. , 464. ,  26.8,   0. ,   nan]]),\n",
              " array([[  7. , 464. ,  26.8,   0. ,   nan],\n",
              "        [  3. , 464. ,  26.8,   0. ,   nan],\n",
              "        [ 32. , 464. ,  26.8,   0. ,   nan]]),\n",
              " array([[  3. , 464. ,  26.8,   0. ,   nan],\n",
              "        [ 32. , 464. ,  26.8,   0. ,   nan],\n",
              "        [ 12. , 464. ,  26.8,   0. ,   nan]]),\n",
              " array([[ 32. , 464. ,  26.8,   0. ,   nan],\n",
              "        [ 12. , 464. ,  26.8,   0. ,   nan],\n",
              "        [ 28. , 464. ,  26.8,   0. ,   nan]]),\n",
              " array([[ 12. , 464. ,  26.8,   0. ,   nan],\n",
              "        [ 28. , 464. ,  26.8,   0. ,   nan],\n",
              "        [ 26. , 464. ,  26.8,   0. ,   nan]]),\n",
              " array([[ 28. , 464. ,  26.8,   0. ,   nan],\n",
              "        [ 26. , 464. ,  26.8,   0. ,   nan],\n",
              "        [ 40. , 464. ,  26.8,   1. ,   1. ]]),\n",
              " array([[ 26. , 464. ,  26.8,   0. ,   nan],\n",
              "        [ 40. , 464. ,  26.8,   1. ,   1. ],\n",
              "        [ 89. , 464. ,  26.8,   1. ,   2. ]]),\n",
              " array([[ 40. , 464. ,  26.8,   1. ,   1. ],\n",
              "        [ 89. , 464. ,  26.8,   1. ,   2. ],\n",
              "        [119. , 464. ,  26.8,   1. ,   3. ]]),\n",
              " array([[ 89. , 464. ,  26.8,   1. ,   2. ],\n",
              "        [119. , 464. ,  26.8,   1. ,   3. ],\n",
              "        [ 53. , 464. ,  26.8,   1. ,   4. ]]),\n",
              " array([[119. , 464. ,  26.8,   1. ,   3. ],\n",
              "        [ 53. , 464. ,  26.8,   1. ,   4. ],\n",
              "        [ 70. , 464. ,  26.8,   1. ,   5. ]]),\n",
              " array([[ 53. , 464. ,  26.8,   1. ,   4. ],\n",
              "        [ 70. , 464. ,  26.8,   1. ,   5. ],\n",
              "        [ 87. , 464. ,  26.8,   1. ,   6. ]]),\n",
              " array([[ 70. , 464. ,  26.8,   1. ,   5. ],\n",
              "        [ 87. , 464. ,  26.8,   1. ,   6. ],\n",
              "        [ 75. , 464. ,  26.8,   1. ,   7. ]]),\n",
              " array([[ 87. , 464. ,  26.8,   1. ,   6. ],\n",
              "        [ 75. , 464. ,  26.8,   1. ,   7. ],\n",
              "        [149. , 464. ,  26.8,   1. ,   8. ]]),\n",
              " array([[ 75. , 464. ,  26.8,   1. ,   7. ],\n",
              "        [149. , 464. ,  26.8,   1. ,   8. ],\n",
              "        [106. , 464. ,  26.8,   1. ,   9. ]]),\n",
              " array([[149. , 464. ,  26.8,   1. ,   8. ],\n",
              "        [106. , 464. ,  26.8,   1. ,   9. ],\n",
              "        [ 92. , 464. ,  26.8,   1. ,  10. ]]),\n",
              " array([[106. , 464. ,  26.8,   1. ,   9. ],\n",
              "        [ 92. , 464. ,  26.8,   1. ,  10. ],\n",
              "        [180. , 464. ,  26.8,   1. ,  11. ]]),\n",
              " array([[ 92. , 464. ,  26.8,   1. ,  10. ],\n",
              "        [180. , 464. ,  26.8,   1. ,  11. ],\n",
              "        [146. , 464. ,  26.8,   1. ,  12. ]]),\n",
              " array([[180. , 464. ,  26.8,   1. ,  11. ],\n",
              "        [146. , 464. ,  26.8,   1. ,  12. ],\n",
              "        [568. , 464. ,  26.8,   1. ,  13. ]]),\n",
              " array([[146. , 464. ,  26.8,   1. ,  12. ],\n",
              "        [568. , 464. ,  26.8,   1. ,  13. ],\n",
              "        [336. , 464. ,  26.8,   1. ,  14. ]]),\n",
              " array([[568. , 464. ,  26.8,   1. ,  13. ],\n",
              "        [336. , 464. ,  26.8,   1. ,  14. ],\n",
              "        [601. , 464. ,  26.8,   1. ,  15. ]]),\n",
              " array([[336. , 464. ,  26.8,   1. ,  14. ],\n",
              "        [601. , 464. ,  26.8,   1. ,  15. ],\n",
              "        [472. , 464. ,  26.8,   1. ,  16. ]]),\n",
              " array([[601. , 464. ,  26.8,   1. ,  15. ],\n",
              "        [472. , 464. ,  26.8,   1. ,  16. ],\n",
              "        [693. , 464. ,  26.8,   1. ,  17. ]]),\n",
              " array([[472. , 464. ,  26.8,   1. ,  16. ],\n",
              "        [693. , 464. ,  26.8,   1. ,  17. ],\n",
              "        [354. , 464. ,  26.8,   1. ,  18. ]]),\n",
              " array([[693. , 464. ,  26.8,   1. ,  17. ],\n",
              "        [354. , 464. ,  26.8,   1. ,  18. ],\n",
              "        [773. , 464. ,  26.8,   1. ,  19. ]]),\n",
              " array([[354. , 464. ,  26.8,   1. ,  18. ],\n",
              "        [773. , 464. ,  26.8,   1. ,  19. ],\n",
              "        [540. , 464. ,  26.8,   1. ,  20. ]]),\n",
              " array([[773. , 464. ,  26.8,   1. ,  19. ],\n",
              "        [540. , 464. ,  26.8,   1. ,  20. ],\n",
              "        [678. , 464. ,  26.8,   1. ,  21. ]]),\n",
              " array([[5.400e+02, 4.640e+02, 2.680e+01, 1.000e+00, 2.000e+01],\n",
              "        [6.780e+02, 4.640e+02, 2.680e+01, 1.000e+00, 2.100e+01],\n",
              "        [1.035e+03, 4.640e+02, 2.680e+01, 1.000e+00, 2.200e+01]]),\n",
              " array([[6.780e+02, 4.640e+02, 2.680e+01, 1.000e+00, 2.100e+01],\n",
              "        [1.035e+03, 4.640e+02, 2.680e+01, 1.000e+00, 2.200e+01],\n",
              "        [9.090e+02, 4.640e+02, 2.680e+01, 1.000e+00, 2.300e+01]]),\n",
              " array([[1.035e+03, 4.640e+02, 2.680e+01, 1.000e+00, 2.200e+01],\n",
              "        [9.090e+02, 4.640e+02, 2.680e+01, 1.000e+00, 2.300e+01],\n",
              "        [7.960e+02, 4.640e+02, 2.680e+01, 1.000e+00, 2.400e+01]]),\n",
              " array([[9.090e+02, 4.640e+02, 2.680e+01, 1.000e+00, 2.300e+01],\n",
              "        [7.960e+02, 4.640e+02, 2.680e+01, 1.000e+00, 2.400e+01],\n",
              "        [1.211e+03, 4.640e+02, 2.680e+01, 1.000e+00, 2.500e+01]]),\n",
              " array([[7.960e+02, 4.640e+02, 2.680e+01, 1.000e+00, 2.400e+01],\n",
              "        [1.211e+03, 4.640e+02, 2.680e+01, 1.000e+00, 2.500e+01],\n",
              "        [1.075e+03, 4.640e+02, 2.680e+01, 1.000e+00, 2.600e+01]]),\n",
              " array([[1.211e+03, 4.640e+02, 2.680e+01, 1.000e+00, 2.500e+01],\n",
              "        [1.075e+03, 4.640e+02, 2.680e+01, 1.000e+00, 2.600e+01],\n",
              "        [9.420e+02, 4.640e+02, 2.680e+01, 1.000e+00, 2.700e+01]]),\n",
              " array([[1.075e+03, 4.640e+02, 2.680e+01, 1.000e+00, 2.600e+01],\n",
              "        [9.420e+02, 4.640e+02, 2.680e+01, 1.000e+00, 2.700e+01],\n",
              "        [1.007e+03, 4.640e+02, 2.680e+01, 1.000e+00, 2.800e+01]]),\n",
              " array([[9.420e+02, 4.640e+02, 2.680e+01, 1.000e+00, 2.700e+01],\n",
              "        [1.007e+03, 4.640e+02, 2.680e+01, 1.000e+00, 2.800e+01],\n",
              "        [9.910e+02, 4.640e+02, 2.680e+01, 1.000e+00, 2.900e+01]]),\n",
              " array([[1.007e+03, 4.640e+02, 2.680e+01, 1.000e+00, 2.800e+01],\n",
              "        [9.910e+02, 4.640e+02, 2.680e+01, 1.000e+00, 2.900e+01],\n",
              "        [1.334e+03, 4.640e+02, 2.680e+01, 1.000e+00, 3.000e+01]]),\n",
              " array([[9.910e+02, 4.640e+02, 2.680e+01, 1.000e+00, 2.900e+01],\n",
              "        [1.334e+03, 4.640e+02, 2.680e+01, 1.000e+00, 3.000e+01],\n",
              "        [1.553e+03, 4.640e+02, 2.680e+01, 1.000e+00, 3.100e+01]]),\n",
              " array([[1.334e+03, 4.640e+02, 2.680e+01, 1.000e+00, 3.000e+01],\n",
              "        [1.553e+03, 4.640e+02, 2.680e+01, 1.000e+00, 3.100e+01],\n",
              "        [1.335e+03, 4.640e+02, 2.680e+01, 1.000e+00, 3.200e+01]]),\n",
              " array([[1.553e+03, 4.640e+02, 2.680e+01, 1.000e+00, 3.100e+01],\n",
              "        [1.335e+03, 4.640e+02, 2.680e+01, 1.000e+00, 3.200e+01],\n",
              "        [1.384e+03, 4.640e+02, 2.680e+01, 1.000e+00, 3.300e+01]]),\n",
              " array([[1.335e+03, 4.640e+02, 2.680e+01, 1.000e+00, 3.200e+01],\n",
              "        [1.384e+03, 4.640e+02, 2.680e+01, 1.000e+00, 3.300e+01],\n",
              "        [1.409e+03, 4.640e+02, 2.680e+01, 1.000e+00, 3.400e+01]]),\n",
              " array([[1.384e+03, 4.640e+02, 2.680e+01, 1.000e+00, 3.300e+01],\n",
              "        [1.409e+03, 4.640e+02, 2.680e+01, 1.000e+00, 3.400e+01],\n",
              "        [1.684e+03, 4.640e+02, 2.680e+01, 1.000e+00, 3.500e+01]]),\n",
              " array([[1.409e+03, 4.640e+02, 2.680e+01, 1.000e+00, 3.400e+01],\n",
              "        [1.684e+03, 4.640e+02, 2.680e+01, 1.000e+00, 3.500e+01],\n",
              "        [1.429e+03, 4.640e+02, 2.680e+01, 1.000e+00, 3.600e+01]]),\n",
              " array([[1.684e+03, 4.640e+02, 2.680e+01, 1.000e+00, 3.500e+01],\n",
              "        [1.429e+03, 4.640e+02, 2.680e+01, 1.000e+00, 3.600e+01],\n",
              "        [1.990e+03, 4.640e+02, 2.680e+01, 1.000e+00, 3.700e+01]])]"
            ]
          },
          "metadata": {
            "tags": []
          },
          "execution_count": 118
        }
      ]
    },
    {
      "cell_type": "code",
      "metadata": {
        "id": "cHlkral9v6Uc",
        "colab_type": "code",
        "colab": {}
      },
      "source": [
        "X_train=np.array(X_train)\n",
        "y_train=np.array(y_train)\n",
        "X_test=np.array(X_test)\n",
        "y_test=np.array(y_test)\n",
        "X_test_ap=np.array(X_test_ap)\n",
        "y_test_ap=np.array(y_test_ap)\n",
        "X_test_tg=np.array(X_test_tg)\n",
        "y_test_tg=np.array(y_test_tg)"
      ],
      "execution_count": null,
      "outputs": []
    },
    {
      "cell_type": "code",
      "metadata": {
        "id": "tVjADUWCwlIh",
        "colab_type": "code",
        "colab": {
          "base_uri": "https://localhost:8080/",
          "height": 457
        },
        "outputId": "c203a2b3-7add-426a-8cf9-860741cb7291"
      },
      "source": [
        "X_test_ap"
      ],
      "execution_count": null,
      "outputs": [
        {
          "output_type": "execute_result",
          "data": {
            "text/plain": [
              "array([[[  0. , 308. ,  26.8,   0. ,   0. ],\n",
              "        [  0. , 308. ,  26.8,   0. ,   0. ],\n",
              "        [  0. , 308. ,  26.8,   0. ,   0. ]],\n",
              "\n",
              "       [[  0. , 308. ,  26.8,   0. ,   0. ],\n",
              "        [  0. , 308. ,  26.8,   0. ,   0. ],\n",
              "        [  0. , 308. ,  26.8,   0. ,   0. ]],\n",
              "\n",
              "       [[  0. , 308. ,  26.8,   0. ,   0. ],\n",
              "        [  0. , 308. ,  26.8,   0. ,   0. ],\n",
              "        [  0. , 308. ,  26.8,   0. ,   0. ]],\n",
              "\n",
              "       ...,\n",
              "\n",
              "       [[ 82. , 308. ,  26.8,   1. ,  39. ],\n",
              "        [ 73. , 308. ,  26.8,   1. ,  40. ],\n",
              "        [ 71. , 308. ,  26.8,   1. ,  41. ]],\n",
              "\n",
              "       [[ 73. , 308. ,  26.8,   1. ,  40. ],\n",
              "        [ 71. , 308. ,  26.8,   1. ,  41. ],\n",
              "        [ 60. , 308. ,  26.8,   1. ,  42. ]],\n",
              "\n",
              "       [[ 71. , 308. ,  26.8,   1. ,  41. ],\n",
              "        [ 60. , 308. ,  26.8,   1. ,  42. ],\n",
              "        [ 62. , 308. ,  26.8,   1. ,  43. ]]])"
            ]
          },
          "metadata": {
            "tags": []
          },
          "execution_count": 120
        }
      ]
    },
    {
      "cell_type": "code",
      "metadata": {
        "id": "8aeFn-9Kwm1q",
        "colab_type": "code",
        "colab": {}
      },
      "source": [
        "from keras.models import Sequential\n",
        "from keras.layers import LSTM\n",
        "from keras.layers import Dropout\n",
        "from keras.layers import Dense\n",
        "from keras.layers import Flatten"
      ],
      "execution_count": null,
      "outputs": []
    },
    {
      "cell_type": "code",
      "metadata": {
        "id": "0fZ1Tasvw4PZ",
        "colab_type": "code",
        "colab": {}
      },
      "source": [
        "# model_mc = Sequential()\n",
        "\n",
        "# #add model layers\n",
        "# model_mc.add(Dense(128, activation='relu', input_shape=(X_train.shape[1],X_train.shape[2])))\n",
        "# model_mc.add(Dense(256, activation='relu'))\n",
        "# model_mc.add(Dense(512, activation='relu'))\n",
        "# model_mc.add(Dense(512, activation='relu'))\n",
        "# model_mc.add(Dense(1024, activation='relu'))\n",
        "# model_mc.add(Dense(1024, activation='relu'))\n",
        "# model_mc.add(Dense(1024, activation='relu'))\n",
        "# model_mc.add(Dense(512, activation='relu'))\n",
        "# model_mc.add(Dense(256, activation='relu'))\n",
        "# model_mc.add(Flatten())\n",
        "# model_mc.add(Dense(1))\n",
        "# #compile model using mse as a measure of model performance\n",
        "# model_mc.compile(optimizer='adam', loss='mean_squared_error')\n",
        "\n",
        "\n",
        "\n",
        "\n",
        "\n",
        "model_mc = Sequential()\n",
        "\n",
        "#add model layers\n",
        "model_mc.add(Dense(128, activation='relu', input_shape=(X_train.shape[1],X_train.shape[2])))\n",
        "model_mc.add(Dense(256, activation='relu'))\n",
        "model_mc.add(Dense(512, activation='relu'))\n",
        "model_mc.add(Dense(512, activation='relu'))\n",
        "model_mc.add(Dropout(0.2))\n",
        "model_mc.add(Dense(1024, activation='relu'))\n",
        "model_mc.add(Dense(1024, activation='relu'))\n",
        "model_mc.add(Dropout(0.2))\n",
        "model_mc.add(Dense(512, activation='relu'))\n",
        "model_mc.add(Dense(512, activation='relu'))\n",
        "model_mc.add(Dropout(0.2))\n",
        "model_mc.add(Dense(256, activation='relu'))\n",
        "model_mc.add(Flatten())\n",
        "model_mc.add(Dense(1))\n",
        "#compile model using mse as a measure of model performance\n",
        "model_mc.compile(optimizer='adam', loss='mean_squared_error')\n",
        "\n",
        "\n"
      ],
      "execution_count": null,
      "outputs": []
    },
    {
      "cell_type": "code",
      "metadata": {
        "id": "Yeouib4uw6GK",
        "colab_type": "code",
        "colab": {
          "base_uri": "https://localhost:8080/",
          "height": 650
        },
        "outputId": "687d6067-72a0-47a7-e5fc-e2977fda48ec"
      },
      "source": [
        "model_mc.summary()"
      ],
      "execution_count": null,
      "outputs": [
        {
          "output_type": "stream",
          "text": [
            "Model: \"sequential_8\"\n",
            "_________________________________________________________________\n",
            "Layer (type)                 Output Shape              Param #   \n",
            "=================================================================\n",
            "dense_71 (Dense)             (None, 3, 128)            768       \n",
            "_________________________________________________________________\n",
            "dense_72 (Dense)             (None, 3, 256)            33024     \n",
            "_________________________________________________________________\n",
            "dense_73 (Dense)             (None, 3, 512)            131584    \n",
            "_________________________________________________________________\n",
            "dense_74 (Dense)             (None, 3, 512)            262656    \n",
            "_________________________________________________________________\n",
            "dropout_7 (Dropout)          (None, 3, 512)            0         \n",
            "_________________________________________________________________\n",
            "dense_75 (Dense)             (None, 3, 1024)           525312    \n",
            "_________________________________________________________________\n",
            "dense_76 (Dense)             (None, 3, 1024)           1049600   \n",
            "_________________________________________________________________\n",
            "dropout_8 (Dropout)          (None, 3, 1024)           0         \n",
            "_________________________________________________________________\n",
            "dense_77 (Dense)             (None, 3, 512)            524800    \n",
            "_________________________________________________________________\n",
            "dense_78 (Dense)             (None, 3, 512)            262656    \n",
            "_________________________________________________________________\n",
            "dropout_9 (Dropout)          (None, 3, 512)            0         \n",
            "_________________________________________________________________\n",
            "dense_79 (Dense)             (None, 3, 256)            131328    \n",
            "_________________________________________________________________\n",
            "flatten_8 (Flatten)          (None, 768)               0         \n",
            "_________________________________________________________________\n",
            "dense_80 (Dense)             (None, 1)                 769       \n",
            "=================================================================\n",
            "Total params: 2,922,497\n",
            "Trainable params: 2,922,497\n",
            "Non-trainable params: 0\n",
            "_________________________________________________________________\n"
          ],
          "name": "stdout"
        }
      ]
    },
    {
      "cell_type": "code",
      "metadata": {
        "id": "NaBuEddSw9dV",
        "colab_type": "code",
        "colab": {
          "base_uri": "https://localhost:8080/",
          "height": 1000
        },
        "outputId": "75dff794-a26d-4617-ce47-a2aa7e935765"
      },
      "source": [
        "#train model\n",
        "model_mc.fit(X_train, y_train, epochs=200,batch_size=10)"
      ],
      "execution_count": null,
      "outputs": [
        {
          "output_type": "stream",
          "text": [
            "Epoch 1/200\n",
            "1289/1289 [==============================] - 7s 5ms/step - loss: 1212762.4720\n",
            "Epoch 2/200\n",
            "1289/1289 [==============================] - 6s 5ms/step - loss: 841155.2358\n",
            "Epoch 3/200\n",
            "1289/1289 [==============================] - 6s 5ms/step - loss: 2199779.6652\n",
            "Epoch 4/200\n",
            "1289/1289 [==============================] - 6s 5ms/step - loss: 690330.0854\n",
            "Epoch 5/200\n",
            "1289/1289 [==============================] - 6s 5ms/step - loss: 586933.4550\n",
            "Epoch 6/200\n",
            "1289/1289 [==============================] - 6s 5ms/step - loss: 1187499.6481\n",
            "Epoch 7/200\n",
            "1289/1289 [==============================] - 6s 5ms/step - loss: 530858.1042\n",
            "Epoch 8/200\n",
            "1289/1289 [==============================] - 6s 5ms/step - loss: 584554.3636\n",
            "Epoch 9/200\n",
            "1289/1289 [==============================] - 6s 5ms/step - loss: 673833.2278\n",
            "Epoch 10/200\n",
            "1289/1289 [==============================] - 6s 5ms/step - loss: 661493.7172\n",
            "Epoch 11/200\n",
            "1289/1289 [==============================] - 6s 5ms/step - loss: 448527.4411\n",
            "Epoch 12/200\n",
            "1289/1289 [==============================] - 6s 5ms/step - loss: 507981.7590\n",
            "Epoch 13/200\n",
            "1289/1289 [==============================] - 6s 5ms/step - loss: 767548.4635\n",
            "Epoch 14/200\n",
            "1289/1289 [==============================] - 6s 5ms/step - loss: 540434.2283\n",
            "Epoch 15/200\n",
            "1289/1289 [==============================] - 6s 5ms/step - loss: 481640.8975\n",
            "Epoch 16/200\n",
            "1289/1289 [==============================] - 6s 5ms/step - loss: 654658.4858\n",
            "Epoch 17/200\n",
            "1289/1289 [==============================] - 6s 5ms/step - loss: 544125.5965\n",
            "Epoch 18/200\n",
            "1289/1289 [==============================] - 6s 5ms/step - loss: 461827.9253\n",
            "Epoch 19/200\n",
            "1289/1289 [==============================] - 6s 5ms/step - loss: 479948.7921\n",
            "Epoch 20/200\n",
            "1289/1289 [==============================] - 6s 5ms/step - loss: 430758.6385\n",
            "Epoch 21/200\n",
            "1289/1289 [==============================] - 6s 5ms/step - loss: 478164.8258\n",
            "Epoch 22/200\n",
            "1289/1289 [==============================] - 6s 5ms/step - loss: 485384.8738\n",
            "Epoch 23/200\n",
            "1289/1289 [==============================] - 6s 5ms/step - loss: 622763.1095\n",
            "Epoch 24/200\n",
            "1289/1289 [==============================] - 6s 5ms/step - loss: 537049.8035\n",
            "Epoch 25/200\n",
            "1289/1289 [==============================] - 6s 5ms/step - loss: 488489.4720\n",
            "Epoch 26/200\n",
            "1289/1289 [==============================] - 6s 5ms/step - loss: 482306.5003\n",
            "Epoch 27/200\n",
            "1289/1289 [==============================] - 6s 5ms/step - loss: 642737.5557\n",
            "Epoch 28/200\n",
            "1289/1289 [==============================] - 6s 5ms/step - loss: 428605.8716\n",
            "Epoch 29/200\n",
            "1289/1289 [==============================] - 6s 5ms/step - loss: 598722.9480\n",
            "Epoch 30/200\n",
            "1289/1289 [==============================] - 6s 5ms/step - loss: 676082.9331\n",
            "Epoch 31/200\n",
            "1289/1289 [==============================] - 6s 5ms/step - loss: 459641.9699\n",
            "Epoch 32/200\n",
            "1289/1289 [==============================] - 6s 5ms/step - loss: 420657.9309\n",
            "Epoch 33/200\n",
            "1289/1289 [==============================] - 6s 5ms/step - loss: 530136.3493\n",
            "Epoch 34/200\n",
            "1289/1289 [==============================] - 6s 5ms/step - loss: 494084.5422\n",
            "Epoch 35/200\n",
            "1289/1289 [==============================] - 6s 5ms/step - loss: 530353.8446\n",
            "Epoch 36/200\n",
            "1289/1289 [==============================] - 6s 5ms/step - loss: 472599.6027\n",
            "Epoch 37/200\n",
            "1289/1289 [==============================] - 6s 5ms/step - loss: 487780.5716\n",
            "Epoch 38/200\n",
            "1289/1289 [==============================] - 6s 5ms/step - loss: 490502.9306\n",
            "Epoch 39/200\n",
            "1289/1289 [==============================] - 6s 5ms/step - loss: 466723.2432\n",
            "Epoch 40/200\n",
            "1289/1289 [==============================] - 6s 5ms/step - loss: 466489.7830\n",
            "Epoch 41/200\n",
            "1289/1289 [==============================] - 6s 5ms/step - loss: 482287.6785\n",
            "Epoch 42/200\n",
            "1289/1289 [==============================] - 6s 5ms/step - loss: 510822.1924\n",
            "Epoch 43/200\n",
            "1289/1289 [==============================] - 6s 5ms/step - loss: 446561.8774\n",
            "Epoch 44/200\n",
            "1289/1289 [==============================] - 6s 5ms/step - loss: 555473.7184\n",
            "Epoch 45/200\n",
            "1289/1289 [==============================] - 6s 5ms/step - loss: 460487.9028\n",
            "Epoch 46/200\n",
            "1289/1289 [==============================] - 6s 5ms/step - loss: 518307.2747\n",
            "Epoch 47/200\n",
            "1289/1289 [==============================] - 6s 5ms/step - loss: 559652.7652\n",
            "Epoch 48/200\n",
            "1289/1289 [==============================] - 6s 5ms/step - loss: 470160.6863\n",
            "Epoch 49/200\n",
            "1289/1289 [==============================] - 6s 5ms/step - loss: 430525.9549\n",
            "Epoch 50/200\n",
            "1289/1289 [==============================] - 6s 5ms/step - loss: 440636.5590\n",
            "Epoch 51/200\n",
            "1289/1289 [==============================] - 6s 5ms/step - loss: 459959.1979\n",
            "Epoch 52/200\n",
            "1289/1289 [==============================] - 6s 5ms/step - loss: 418432.6690\n",
            "Epoch 53/200\n",
            "1289/1289 [==============================] - 6s 5ms/step - loss: 497765.6878\n",
            "Epoch 54/200\n",
            "1289/1289 [==============================] - 6s 5ms/step - loss: 413848.1492\n",
            "Epoch 55/200\n",
            "1289/1289 [==============================] - 6s 5ms/step - loss: 458392.4713\n",
            "Epoch 56/200\n",
            "1289/1289 [==============================] - 6s 5ms/step - loss: 504186.9796\n",
            "Epoch 57/200\n",
            "1289/1289 [==============================] - 6s 5ms/step - loss: 563685.6032\n",
            "Epoch 58/200\n",
            "1289/1289 [==============================] - 6s 5ms/step - loss: 554797.7044\n",
            "Epoch 59/200\n",
            "1289/1289 [==============================] - 6s 5ms/step - loss: 424704.6565\n",
            "Epoch 60/200\n",
            "1289/1289 [==============================] - 6s 5ms/step - loss: 447447.1901\n",
            "Epoch 61/200\n",
            "1289/1289 [==============================] - 6s 5ms/step - loss: 434212.4147\n",
            "Epoch 62/200\n",
            "1289/1289 [==============================] - 6s 5ms/step - loss: 474106.3373\n",
            "Epoch 63/200\n",
            "1289/1289 [==============================] - 6s 5ms/step - loss: 435298.1869\n",
            "Epoch 64/200\n",
            "1289/1289 [==============================] - 6s 5ms/step - loss: 443538.9000\n",
            "Epoch 65/200\n",
            "1289/1289 [==============================] - 6s 5ms/step - loss: 498135.4981\n",
            "Epoch 66/200\n",
            "1289/1289 [==============================] - 6s 5ms/step - loss: 476539.6085\n",
            "Epoch 67/200\n",
            "1289/1289 [==============================] - 6s 5ms/step - loss: 439989.8253\n",
            "Epoch 68/200\n",
            "1289/1289 [==============================] - 6s 5ms/step - loss: 421454.4747\n",
            "Epoch 69/200\n",
            "1289/1289 [==============================] - 6s 5ms/step - loss: 429840.5005\n",
            "Epoch 70/200\n",
            "1289/1289 [==============================] - 6s 5ms/step - loss: 460222.4872\n",
            "Epoch 71/200\n",
            "1289/1289 [==============================] - 6s 5ms/step - loss: 410097.3544\n",
            "Epoch 72/200\n",
            "1289/1289 [==============================] - 6s 5ms/step - loss: 400011.7152\n",
            "Epoch 73/200\n",
            "1289/1289 [==============================] - 6s 5ms/step - loss: 512075.3090\n",
            "Epoch 74/200\n",
            "1289/1289 [==============================] - 6s 5ms/step - loss: 512343.8820\n",
            "Epoch 75/200\n",
            "1289/1289 [==============================] - 6s 5ms/step - loss: 456541.4474\n",
            "Epoch 76/200\n",
            "1289/1289 [==============================] - 6s 5ms/step - loss: 522139.6498\n",
            "Epoch 77/200\n",
            "1289/1289 [==============================] - 6s 5ms/step - loss: 409959.4576\n",
            "Epoch 78/200\n",
            "1289/1289 [==============================] - 6s 5ms/step - loss: 412170.1926\n",
            "Epoch 79/200\n",
            "1289/1289 [==============================] - 6s 5ms/step - loss: 396342.1551\n",
            "Epoch 80/200\n",
            "1289/1289 [==============================] - 6s 5ms/step - loss: 438890.9125\n",
            "Epoch 81/200\n",
            "1289/1289 [==============================] - 6s 5ms/step - loss: 476344.7327\n",
            "Epoch 82/200\n",
            "1289/1289 [==============================] - 6s 5ms/step - loss: 420402.0797\n",
            "Epoch 83/200\n",
            "1289/1289 [==============================] - 6s 5ms/step - loss: 448347.1761\n",
            "Epoch 84/200\n",
            "1289/1289 [==============================] - 7s 6ms/step - loss: 451717.5673\n",
            "Epoch 85/200\n",
            "1289/1289 [==============================] - 11s 8ms/step - loss: 557750.3787\n",
            "Epoch 86/200\n",
            "1289/1289 [==============================] - 6s 5ms/step - loss: 452261.5845\n",
            "Epoch 87/200\n",
            "1289/1289 [==============================] - 6s 5ms/step - loss: 454485.3633\n",
            "Epoch 88/200\n",
            "1289/1289 [==============================] - 6s 5ms/step - loss: 466408.0171\n",
            "Epoch 89/200\n",
            "1289/1289 [==============================] - 6s 5ms/step - loss: 416015.5199\n",
            "Epoch 90/200\n",
            "1289/1289 [==============================] - 6s 5ms/step - loss: 457961.9999\n",
            "Epoch 91/200\n",
            "1289/1289 [==============================] - 6s 5ms/step - loss: 456017.8833\n",
            "Epoch 92/200\n",
            "1289/1289 [==============================] - 6s 5ms/step - loss: 464162.0665\n",
            "Epoch 93/200\n",
            "1289/1289 [==============================] - 6s 5ms/step - loss: 450242.3511\n",
            "Epoch 94/200\n",
            "1289/1289 [==============================] - 6s 5ms/step - loss: 394106.2126\n",
            "Epoch 95/200\n",
            "1289/1289 [==============================] - 6s 5ms/step - loss: 455678.0999\n",
            "Epoch 96/200\n",
            "1289/1289 [==============================] - 6s 5ms/step - loss: 428163.8574\n",
            "Epoch 97/200\n",
            "1289/1289 [==============================] - 6s 5ms/step - loss: 430516.8137\n",
            "Epoch 98/200\n",
            "1289/1289 [==============================] - 6s 5ms/step - loss: 445845.0043\n",
            "Epoch 99/200\n",
            "1289/1289 [==============================] - 6s 5ms/step - loss: 412055.9816\n",
            "Epoch 100/200\n",
            "1289/1289 [==============================] - 6s 5ms/step - loss: 428526.8362\n",
            "Epoch 101/200\n",
            "1289/1289 [==============================] - 6s 5ms/step - loss: 419411.3307\n",
            "Epoch 102/200\n",
            "1289/1289 [==============================] - 6s 5ms/step - loss: 471387.9285\n",
            "Epoch 103/200\n",
            "1289/1289 [==============================] - 6s 5ms/step - loss: 408505.0302\n",
            "Epoch 104/200\n",
            "1289/1289 [==============================] - 6s 5ms/step - loss: 428931.1506\n",
            "Epoch 105/200\n",
            "1289/1289 [==============================] - 6s 5ms/step - loss: 530977.3793\n",
            "Epoch 106/200\n",
            "1289/1289 [==============================] - 6s 5ms/step - loss: 414019.6445\n",
            "Epoch 107/200\n",
            "1289/1289 [==============================] - 6s 5ms/step - loss: 421842.3973\n",
            "Epoch 108/200\n",
            "1289/1289 [==============================] - 6s 5ms/step - loss: 416544.8665\n",
            "Epoch 109/200\n",
            "1289/1289 [==============================] - 6s 5ms/step - loss: 391079.2585\n",
            "Epoch 110/200\n",
            "1289/1289 [==============================] - 6s 5ms/step - loss: 446385.7223\n",
            "Epoch 111/200\n",
            "1289/1289 [==============================] - 6s 5ms/step - loss: 463377.9307\n",
            "Epoch 112/200\n",
            "1289/1289 [==============================] - 6s 5ms/step - loss: 457920.7872\n",
            "Epoch 113/200\n",
            "1289/1289 [==============================] - 6s 5ms/step - loss: 418256.5089\n",
            "Epoch 114/200\n",
            "1289/1289 [==============================] - 6s 5ms/step - loss: 453326.6235\n",
            "Epoch 115/200\n",
            "1289/1289 [==============================] - 6s 5ms/step - loss: 453192.7781\n",
            "Epoch 116/200\n",
            "1289/1289 [==============================] - 6s 5ms/step - loss: 391566.0751\n",
            "Epoch 117/200\n",
            "1289/1289 [==============================] - 6s 5ms/step - loss: 414130.1307\n",
            "Epoch 118/200\n",
            "1289/1289 [==============================] - 6s 5ms/step - loss: 436445.9538\n",
            "Epoch 119/200\n",
            "1289/1289 [==============================] - 6s 5ms/step - loss: 449892.1680\n",
            "Epoch 120/200\n",
            "1289/1289 [==============================] - 6s 5ms/step - loss: 414199.3726\n",
            "Epoch 121/200\n",
            "1289/1289 [==============================] - 6s 5ms/step - loss: 419768.6257\n",
            "Epoch 122/200\n",
            "1289/1289 [==============================] - 6s 5ms/step - loss: 414730.2060\n",
            "Epoch 123/200\n",
            "1289/1289 [==============================] - 6s 5ms/step - loss: 385673.3465\n",
            "Epoch 124/200\n",
            "1289/1289 [==============================] - 6s 5ms/step - loss: 390291.8138\n",
            "Epoch 125/200\n",
            "1289/1289 [==============================] - 6s 5ms/step - loss: 447015.3232\n",
            "Epoch 126/200\n",
            "1289/1289 [==============================] - 6s 5ms/step - loss: 412049.6634\n",
            "Epoch 127/200\n",
            "1289/1289 [==============================] - 6s 5ms/step - loss: 456334.6020\n",
            "Epoch 128/200\n",
            "1289/1289 [==============================] - 6s 5ms/step - loss: 449976.6271\n",
            "Epoch 129/200\n",
            "1289/1289 [==============================] - 6s 5ms/step - loss: 398017.4194\n",
            "Epoch 130/200\n",
            "1289/1289 [==============================] - 6s 5ms/step - loss: 412356.3819\n",
            "Epoch 131/200\n",
            "1289/1289 [==============================] - 6s 5ms/step - loss: 380598.8002\n",
            "Epoch 132/200\n",
            "1289/1289 [==============================] - 6s 5ms/step - loss: 380618.7777\n",
            "Epoch 133/200\n",
            "1289/1289 [==============================] - 6s 5ms/step - loss: 396841.1309\n",
            "Epoch 134/200\n",
            "1289/1289 [==============================] - 6s 5ms/step - loss: 429342.7082\n",
            "Epoch 135/200\n",
            "1289/1289 [==============================] - 6s 5ms/step - loss: 405290.8315\n",
            "Epoch 136/200\n",
            "1289/1289 [==============================] - 6s 5ms/step - loss: 477241.6138\n",
            "Epoch 137/200\n",
            "1289/1289 [==============================] - 6s 5ms/step - loss: 452406.3516\n",
            "Epoch 138/200\n",
            "1289/1289 [==============================] - 6s 5ms/step - loss: 427553.6716\n",
            "Epoch 139/200\n",
            "1289/1289 [==============================] - 6s 5ms/step - loss: 426219.9085\n",
            "Epoch 140/200\n",
            "1289/1289 [==============================] - 6s 5ms/step - loss: 435412.8132\n",
            "Epoch 141/200\n",
            "1289/1289 [==============================] - 6s 5ms/step - loss: 386890.7283\n",
            "Epoch 142/200\n",
            "1289/1289 [==============================] - 6s 5ms/step - loss: 407816.0840\n",
            "Epoch 143/200\n",
            "1289/1289 [==============================] - 6s 5ms/step - loss: 468115.3593\n",
            "Epoch 144/200\n",
            "1289/1289 [==============================] - 6s 5ms/step - loss: 432847.2511\n",
            "Epoch 145/200\n",
            "1289/1289 [==============================] - 6s 5ms/step - loss: 639137.3297\n",
            "Epoch 146/200\n",
            "1289/1289 [==============================] - 6s 5ms/step - loss: 448446.5811\n",
            "Epoch 147/200\n",
            "1289/1289 [==============================] - 6s 5ms/step - loss: 397503.1764\n",
            "Epoch 148/200\n",
            "1289/1289 [==============================] - 6s 5ms/step - loss: 421876.9793\n",
            "Epoch 149/200\n",
            "1289/1289 [==============================] - 6s 5ms/step - loss: 419664.0587\n",
            "Epoch 150/200\n",
            "1289/1289 [==============================] - 6s 5ms/step - loss: 400953.7769\n",
            "Epoch 151/200\n",
            "1289/1289 [==============================] - 6s 5ms/step - loss: 460986.7301\n",
            "Epoch 152/200\n",
            "1289/1289 [==============================] - 6s 5ms/step - loss: 414435.0703\n",
            "Epoch 153/200\n",
            "1289/1289 [==============================] - 6s 5ms/step - loss: 390804.1334\n",
            "Epoch 154/200\n",
            "1289/1289 [==============================] - 6s 5ms/step - loss: 397493.1709\n",
            "Epoch 155/200\n",
            "1289/1289 [==============================] - 6s 5ms/step - loss: 386519.4646\n",
            "Epoch 156/200\n",
            "1289/1289 [==============================] - 6s 5ms/step - loss: 468194.8830\n",
            "Epoch 157/200\n",
            "1289/1289 [==============================] - 6s 5ms/step - loss: 424463.5715\n",
            "Epoch 158/200\n",
            "1289/1289 [==============================] - 6s 5ms/step - loss: 403273.8684\n",
            "Epoch 159/200\n",
            "1289/1289 [==============================] - 6s 5ms/step - loss: 418198.4682\n",
            "Epoch 160/200\n",
            "1289/1289 [==============================] - 6s 5ms/step - loss: 444287.7630\n",
            "Epoch 161/200\n",
            "1289/1289 [==============================] - 6s 5ms/step - loss: 399257.5235\n",
            "Epoch 162/200\n",
            "1289/1289 [==============================] - 6s 5ms/step - loss: 404381.7252\n",
            "Epoch 163/200\n",
            "1289/1289 [==============================] - 6s 5ms/step - loss: 442340.5484\n",
            "Epoch 164/200\n",
            "1289/1289 [==============================] - 6s 5ms/step - loss: 378844.1251\n",
            "Epoch 165/200\n",
            "1289/1289 [==============================] - 6s 5ms/step - loss: 403581.6951\n",
            "Epoch 166/200\n",
            "1289/1289 [==============================] - 6s 5ms/step - loss: 435782.1588\n",
            "Epoch 167/200\n",
            "1289/1289 [==============================] - 6s 5ms/step - loss: 435822.4530\n",
            "Epoch 168/200\n",
            "1289/1289 [==============================] - 6s 5ms/step - loss: 382724.6303\n",
            "Epoch 169/200\n",
            "1289/1289 [==============================] - 6s 5ms/step - loss: 417073.2469\n",
            "Epoch 170/200\n",
            "1289/1289 [==============================] - 6s 5ms/step - loss: 477510.2630\n",
            "Epoch 171/200\n",
            "1289/1289 [==============================] - 6s 5ms/step - loss: 421994.4638\n",
            "Epoch 172/200\n",
            "1289/1289 [==============================] - 6s 5ms/step - loss: 406841.2340\n",
            "Epoch 173/200\n",
            "1289/1289 [==============================] - 6s 5ms/step - loss: 420522.6822\n",
            "Epoch 174/200\n",
            "1289/1289 [==============================] - 6s 5ms/step - loss: 434266.5224\n",
            "Epoch 175/200\n",
            "1289/1289 [==============================] - 6s 5ms/step - loss: 434588.8956\n",
            "Epoch 176/200\n",
            "1289/1289 [==============================] - 6s 5ms/step - loss: 416469.7708\n",
            "Epoch 177/200\n",
            "1289/1289 [==============================] - 6s 5ms/step - loss: 390441.3257\n",
            "Epoch 178/200\n",
            "1289/1289 [==============================] - 6s 5ms/step - loss: 360650.4200\n",
            "Epoch 179/200\n",
            "1289/1289 [==============================] - 6s 5ms/step - loss: 445115.4373\n",
            "Epoch 180/200\n",
            "1289/1289 [==============================] - 6s 5ms/step - loss: 396784.6155\n",
            "Epoch 181/200\n",
            "1289/1289 [==============================] - 6s 5ms/step - loss: 401583.9592\n",
            "Epoch 182/200\n",
            "1289/1289 [==============================] - 6s 5ms/step - loss: 516436.7860\n",
            "Epoch 183/200\n",
            "1289/1289 [==============================] - 6s 5ms/step - loss: 411746.6088\n",
            "Epoch 184/200\n",
            "1289/1289 [==============================] - 6s 5ms/step - loss: 364638.9598\n",
            "Epoch 185/200\n",
            "1289/1289 [==============================] - 6s 5ms/step - loss: 406860.4958\n",
            "Epoch 186/200\n",
            "1289/1289 [==============================] - 6s 5ms/step - loss: 413151.3856\n",
            "Epoch 187/200\n",
            "1289/1289 [==============================] - 6s 5ms/step - loss: 393296.6451\n",
            "Epoch 188/200\n",
            "1289/1289 [==============================] - 6s 5ms/step - loss: 409979.9089\n",
            "Epoch 189/200\n",
            "1289/1289 [==============================] - 6s 5ms/step - loss: 401868.0276\n",
            "Epoch 190/200\n",
            "1289/1289 [==============================] - 6s 5ms/step - loss: 380892.4346\n",
            "Epoch 191/200\n",
            "1289/1289 [==============================] - 6s 5ms/step - loss: 415913.8862\n",
            "Epoch 192/200\n",
            "1289/1289 [==============================] - 6s 5ms/step - loss: 423811.6759\n",
            "Epoch 193/200\n",
            "1289/1289 [==============================] - 6s 5ms/step - loss: 383100.2377\n",
            "Epoch 194/200\n",
            "1289/1289 [==============================] - 6s 5ms/step - loss: 378247.0308\n",
            "Epoch 195/200\n",
            "1289/1289 [==============================] - 6s 5ms/step - loss: 378704.4790\n",
            "Epoch 196/200\n",
            "1289/1289 [==============================] - 6s 5ms/step - loss: 441309.5322\n",
            "Epoch 197/200\n",
            "1289/1289 [==============================] - 6s 5ms/step - loss: 395108.3108\n",
            "Epoch 198/200\n",
            "1289/1289 [==============================] - 6s 5ms/step - loss: 430542.3503\n",
            "Epoch 199/200\n",
            "1289/1289 [==============================] - 6s 5ms/step - loss: 422215.6060\n",
            "Epoch 200/200\n",
            "1289/1289 [==============================] - 6s 5ms/step - loss: 371580.2813\n"
          ],
          "name": "stdout"
        },
        {
          "output_type": "execute_result",
          "data": {
            "text/plain": [
              "<keras.callbacks.callbacks.History at 0x7f80fe7c2a90>"
            ]
          },
          "metadata": {
            "tags": []
          },
          "execution_count": 124
        }
      ]
    },
    {
      "cell_type": "code",
      "metadata": {
        "id": "CojgYyCCw_k2",
        "colab_type": "code",
        "colab": {
          "base_uri": "https://localhost:8080/",
          "height": 265
        },
        "outputId": "bc8a325c-e92d-4129-850e-4e3328fd3a35"
      },
      "source": [
        "#shuffle\n",
        "plt.plot(model_mc.predict(X_test_ap), label = \"predicted\")\n",
        "# function to show the plot \n",
        "plt.show()"
      ],
      "execution_count": null,
      "outputs": [
        {
          "output_type": "display_data",
          "data": {
            "image/png": "[encoded data removed]",
            "text/plain": [
              "<Figure size 432x288 with 1 Axes>"
            ]
          },
          "metadata": {
            "tags": [],
            "needs_background": "light"
          }
        }
      ]
    },
    {
      "cell_type": "code",
      "metadata": {
        "id": "N-qBig4pZoj0",
        "colab_type": "code",
        "colab": {
          "base_uri": "https://localhost:8080/",
          "height": 282
        },
        "outputId": "58bc0b2a-fc27-4f70-ab39-51c6e0f4fe7c"
      },
      "source": [
        "from matplotlib import pyplot as plt\n",
        "plt.figure()\n",
        "plt.plot(y_test_ap)"
      ],
      "execution_count": null,
      "outputs": [
        {
          "output_type": "execute_result",
          "data": {
            "text/plain": [
              "[<matplotlib.lines.Line2D at 0x7f80fdfd7ac8>]"
            ]
          },
          "metadata": {
            "tags": []
          },
          "execution_count": 126
        },
        {
          "output_type": "display_data",
          "data": {
            "image/png": "[encoded data removed]",
            "text/plain": [
              "<Figure size 432x288 with 1 Axes>"
            ]
          },
          "metadata": {
            "tags": [],
            "needs_background": "light"
          }
        }
      ]
    },
    {
      "cell_type": "code",
      "metadata": {
        "id": "kxojcbzHZsg5",
        "colab_type": "code",
        "colab": {
          "base_uri": "https://localhost:8080/",
          "height": 281
        },
        "outputId": "67f1c91c-0c48-4308-df50-f8ccd66e3f3e"
      },
      "source": [
        "plt.plot(model_mc.predict(X_test_ap), label = \"predicted\")\n",
        "plt.plot(y_test_ap, label = \"normal\")\n",
        "plt.title('AP prediction vs normal') \n",
        " \n",
        "plt.legend() \n",
        "  \n",
        "# function to show the plot \n",
        "plt.show()"
      ],
      "execution_count": null,
      "outputs": [
        {
          "output_type": "display_data",
          "data": {
            "image/png": "[encoded data removed]",
            "text/plain": [
              "<Figure size 432x288 with 1 Axes>"
            ]
          },
          "metadata": {
            "tags": [],
            "needs_background": "light"
          }
        }
      ]
    },
    {
      "cell_type": "code",
      "metadata": {
        "id": "We5GdzUFimjH",
        "colab_type": "code",
        "colab": {
          "base_uri": "https://localhost:8080/",
          "height": 281
        },
        "outputId": "0b27dc07-482e-45e1-f308-b48b62a5cdb1"
      },
      "source": [
        "plt.plot(model_mc.predict(X_test_tg), label = \"predicted\")\n",
        "plt.plot(y_test_tg, label = \"normal\")\n",
        "plt.title('tg prediction vs normal') \n",
        " \n",
        "plt.legend() \n",
        "  \n",
        "# function to show the plot \n",
        "plt.show()"
      ],
      "execution_count": null,
      "outputs": [
        {
          "output_type": "display_data",
          "data": {
            "image/png": "[encoded data removed]",
            "text/plain": [
              "<Figure size 432x288 with 1 Axes>"
            ]
          },
          "metadata": {
            "tags": [],
            "needs_background": "light"
          }
        }
      ]
    },
    {
      "cell_type": "code",
      "metadata": {
        "id": "R9OdqUPiZyrS",
        "colab_type": "code",
        "colab": {}
      },
      "source": [
        "X_ita=[]\n",
        "y_ita=[]\n",
        "for i in range(3,119):\n",
        "  X_ita.append(np.array(italy.iloc[i-3:i,0:5]))\n",
        "  y_ita.append(italy.iloc[i][0])"
      ],
      "execution_count": null,
      "outputs": []
    },
    {
      "cell_type": "code",
      "metadata": {
        "id": "p1B0H5NPilwF",
        "colab_type": "code",
        "colab": {}
      },
      "source": [
        ""
      ],
      "execution_count": null,
      "outputs": []
    },
    {
      "cell_type": "code",
      "metadata": {
        "id": "rbXQUaY-aIwE",
        "colab_type": "code",
        "colab": {}
      },
      "source": [
        "X_ita=np.array(X_ita)\n",
        "y_ita=np.array(y_ita)"
      ],
      "execution_count": null,
      "outputs": []
    },
    {
      "cell_type": "code",
      "metadata": {
        "id": "_1e-KitpaT68",
        "colab_type": "code",
        "colab": {
          "base_uri": "https://localhost:8080/",
          "height": 265
        },
        "outputId": "ce400632-9d3c-40b0-90cf-4612ddd2d4e3"
      },
      "source": [
        "#shuffle\n",
        "plt.plot(model_mc.predict(X_ita), label = \"predicted\")\n",
        "# function to show the plot \n",
        "plt.show()"
      ],
      "execution_count": null,
      "outputs": [
        {
          "output_type": "display_data",
          "data": {
            "image/png": "[encoded data removed]",
            "text/plain": [
              "<Figure size 432x288 with 1 Axes>"
            ]
          },
          "metadata": {
            "tags": [],
            "needs_background": "light"
          }
        }
      ]
    },
    {
      "cell_type": "code",
      "metadata": {
        "id": "ehUT9Umcansr",
        "colab_type": "code",
        "colab": {
          "base_uri": "https://localhost:8080/",
          "height": 282
        },
        "outputId": "8c62fb2c-d402-4ce2-8927-5b40f1770114"
      },
      "source": [
        "from matplotlib import pyplot as plt\n",
        "plt.figure()\n",
        "plt.plot(y_ita)"
      ],
      "execution_count": null,
      "outputs": [
        {
          "output_type": "execute_result",
          "data": {
            "text/plain": [
              "[<matplotlib.lines.Line2D at 0x7f80fd82da58>]"
            ]
          },
          "metadata": {
            "tags": []
          },
          "execution_count": 93
        },
        {
          "output_type": "display_data",
          "data": {
            "image/png": "[encoded data removed]",
            "text/plain": [
              "<Figure size 432x288 with 1 Axes>"
            ]
          },
          "metadata": {
            "tags": [],
            "needs_background": "light"
          }
        }
      ]
    },
    {
      "cell_type": "code",
      "metadata": {
        "id": "smvDWjyZau8l",
        "colab_type": "code",
        "colab": {
          "base_uri": "https://localhost:8080/",
          "height": 281
        },
        "outputId": "70a24f2b-e4a9-4c7d-edbc-7ff2361ea177"
      },
      "source": [
        "plt.plot(model_mc.predict(X_ita), label = \"predicted\")\n",
        "plt.plot(y_ita, label = \"normal\")\n",
        "plt.title('Itally prediction vs normal') \n",
        "plt.legend() \n",
        "  \n",
        "# function to show the plot \n",
        "plt.show()"
      ],
      "execution_count": null,
      "outputs": [
        {
          "output_type": "display_data",
          "data": {
            "image/png": "[encoded data removed]",
            "text/plain": [
              "<Figure size 432x288 with 1 Axes>"
            ]
          },
          "metadata": {
            "tags": [],
            "needs_background": "light"
          }
        }
      ]
    },
    {
      "cell_type": "code",
      "metadata": {
        "id": "1iuSehj4bBaF",
        "colab_type": "code",
        "colab": {
          "base_uri": "https://localhost:8080/",
          "height": 402
        },
        "outputId": "1eee01a6-0d67-4884-c084-f94e39eb5755"
      },
      "source": [
        "brazil=pd.read_csv('brazil.csv')\n",
        "brazil.drop(['Date'],axis=1,inplace=True)\n",
        "brazil.fillna(brazil.mean())"
      ],
      "execution_count": null,
      "outputs": [
        {
          "output_type": "execute_result",
          "data": {
            "text/html": [
              "<div>\n",
              "<style scoped>\n",
              "    .dataframe tbody tr th:only-of-type {\n",
              "        vertical-align: middle;\n",
              "    }\n",
              "\n",
              "    .dataframe tbody tr th {\n",
              "        vertical-align: top;\n",
              "    }\n",
              "\n",
              "    .dataframe thead th {\n",
              "        text-align: right;\n",
              "    }\n",
              "</style>\n",
              "<table border=\"1\" class=\"dataframe\">\n",
              "  <thead>\n",
              "    <tr style=\"text-align: right;\">\n",
              "      <th></th>\n",
              "      <th>Cases</th>\n",
              "      <th>PD</th>\n",
              "      <th>Medain Age</th>\n",
              "      <th>Lock down status</th>\n",
              "      <th>Lockdown days</th>\n",
              "    </tr>\n",
              "  </thead>\n",
              "  <tbody>\n",
              "    <tr>\n",
              "      <th>0</th>\n",
              "      <td>0</td>\n",
              "      <td>25</td>\n",
              "      <td>31.4</td>\n",
              "      <td>0</td>\n",
              "      <td>0</td>\n",
              "    </tr>\n",
              "    <tr>\n",
              "      <th>1</th>\n",
              "      <td>0</td>\n",
              "      <td>25</td>\n",
              "      <td>31.4</td>\n",
              "      <td>0</td>\n",
              "      <td>0</td>\n",
              "    </tr>\n",
              "    <tr>\n",
              "      <th>2</th>\n",
              "      <td>0</td>\n",
              "      <td>25</td>\n",
              "      <td>31.4</td>\n",
              "      <td>0</td>\n",
              "      <td>0</td>\n",
              "    </tr>\n",
              "    <tr>\n",
              "      <th>3</th>\n",
              "      <td>0</td>\n",
              "      <td>25</td>\n",
              "      <td>31.4</td>\n",
              "      <td>0</td>\n",
              "      <td>0</td>\n",
              "    </tr>\n",
              "    <tr>\n",
              "      <th>4</th>\n",
              "      <td>0</td>\n",
              "      <td>25</td>\n",
              "      <td>31.4</td>\n",
              "      <td>0</td>\n",
              "      <td>0</td>\n",
              "    </tr>\n",
              "    <tr>\n",
              "      <th>...</th>\n",
              "      <td>...</td>\n",
              "      <td>...</td>\n",
              "      <td>...</td>\n",
              "      <td>...</td>\n",
              "      <td>...</td>\n",
              "    </tr>\n",
              "    <tr>\n",
              "      <th>113</th>\n",
              "      <td>2678</td>\n",
              "      <td>25</td>\n",
              "      <td>31.4</td>\n",
              "      <td>1</td>\n",
              "      <td>30</td>\n",
              "    </tr>\n",
              "    <tr>\n",
              "      <th>114</th>\n",
              "      <td>4279</td>\n",
              "      <td>25</td>\n",
              "      <td>31.4</td>\n",
              "      <td>1</td>\n",
              "      <td>31</td>\n",
              "    </tr>\n",
              "    <tr>\n",
              "      <th>115</th>\n",
              "      <td>4007</td>\n",
              "      <td>25</td>\n",
              "      <td>31.4</td>\n",
              "      <td>1</td>\n",
              "      <td>32</td>\n",
              "    </tr>\n",
              "    <tr>\n",
              "      <th>116</th>\n",
              "      <td>5281</td>\n",
              "      <td>25</td>\n",
              "      <td>31.4</td>\n",
              "      <td>1</td>\n",
              "      <td>33</td>\n",
              "    </tr>\n",
              "    <tr>\n",
              "      <th>117</th>\n",
              "      <td>3776</td>\n",
              "      <td>25</td>\n",
              "      <td>31.4</td>\n",
              "      <td>1</td>\n",
              "      <td>34</td>\n",
              "    </tr>\n",
              "  </tbody>\n",
              "</table>\n",
              "<p>118 rows × 5 columns</p>\n",
              "</div>"
            ],
            "text/plain": [
              "     Cases  PD  Medain Age  Lock down status  Lockdown days\n",
              "0        0  25        31.4                 0              0\n",
              "1        0  25        31.4                 0              0\n",
              "2        0  25        31.4                 0              0\n",
              "3        0  25        31.4                 0              0\n",
              "4        0  25        31.4                 0              0\n",
              "..     ...  ..         ...               ...            ...\n",
              "113   2678  25        31.4                 1             30\n",
              "114   4279  25        31.4                 1             31\n",
              "115   4007  25        31.4                 1             32\n",
              "116   5281  25        31.4                 1             33\n",
              "117   3776  25        31.4                 1             34\n",
              "\n",
              "[118 rows x 5 columns]"
            ]
          },
          "metadata": {
            "tags": []
          },
          "execution_count": 33
        }
      ]
    },
    {
      "cell_type": "code",
      "metadata": {
        "id": "6rrBKT_Ug2i_",
        "colab_type": "code",
        "colab": {
          "base_uri": "https://localhost:8080/",
          "height": 314
        },
        "outputId": "2d59217a-0a3b-4997-eb6a-56a452c79dc7"
      },
      "source": [
        "brazil.drop(['Date'],axis=1,inplace=True)"
      ],
      "execution_count": null,
      "outputs": [
        {
          "output_type": "error",
          "ename": "KeyError",
          "evalue": "ignored",
          "traceback": [
            "\u001b[0;31m---------------------------------------------------------------------------\u001b[0m",
            "\u001b[0;31mKeyError\u001b[0m                                  Traceback (most recent call last)",
            "\u001b[0;32m<ipython-input-34-193238c9ce6c>\u001b[0m in \u001b[0;36m<module>\u001b[0;34m()\u001b[0m\n\u001b[0;32m----> 1\u001b[0;31m \u001b[0mbrazil\u001b[0m\u001b[0;34m.\u001b[0m\u001b[0mdrop\u001b[0m\u001b[0;34m(\u001b[0m\u001b[0;34m[\u001b[0m\u001b[0;34m'Date'\u001b[0m\u001b[0;34m]\u001b[0m\u001b[0;34m,\u001b[0m\u001b[0maxis\u001b[0m\u001b[0;34m=\u001b[0m\u001b[0;36m1\u001b[0m\u001b[0;34m,\u001b[0m\u001b[0minplace\u001b[0m\u001b[0;34m=\u001b[0m\u001b[0;32mTrue\u001b[0m\u001b[0;34m)\u001b[0m\u001b[0;34m\u001b[0m\u001b[0;34m\u001b[0m\u001b[0m\n\u001b[0m",
            "\u001b[0;32m/usr/local/lib/python3.6/dist-packages/pandas/core/frame.py\u001b[0m in \u001b[0;36mdrop\u001b[0;34m(self, labels, axis, index, columns, level, inplace, errors)\u001b[0m\n\u001b[1;32m   3995\u001b[0m             \u001b[0mlevel\u001b[0m\u001b[0;34m=\u001b[0m\u001b[0mlevel\u001b[0m\u001b[0;34m,\u001b[0m\u001b[0;34m\u001b[0m\u001b[0;34m\u001b[0m\u001b[0m\n\u001b[1;32m   3996\u001b[0m             \u001b[0minplace\u001b[0m\u001b[0;34m=\u001b[0m\u001b[0minplace\u001b[0m\u001b[0;34m,\u001b[0m\u001b[0;34m\u001b[0m\u001b[0;34m\u001b[0m\u001b[0m\n\u001b[0;32m-> 3997\u001b[0;31m             \u001b[0merrors\u001b[0m\u001b[0;34m=\u001b[0m\u001b[0merrors\u001b[0m\u001b[0;34m,\u001b[0m\u001b[0;34m\u001b[0m\u001b[0;34m\u001b[0m\u001b[0m\n\u001b[0m\u001b[1;32m   3998\u001b[0m         )\n\u001b[1;32m   3999\u001b[0m \u001b[0;34m\u001b[0m\u001b[0m\n",
            "\u001b[0;32m/usr/local/lib/python3.6/dist-packages/pandas/core/generic.py\u001b[0m in \u001b[0;36mdrop\u001b[0;34m(self, labels, axis, index, columns, level, inplace, errors)\u001b[0m\n\u001b[1;32m   3934\u001b[0m         \u001b[0;32mfor\u001b[0m \u001b[0maxis\u001b[0m\u001b[0;34m,\u001b[0m \u001b[0mlabels\u001b[0m \u001b[0;32min\u001b[0m \u001b[0maxes\u001b[0m\u001b[0;34m.\u001b[0m\u001b[0mitems\u001b[0m\u001b[0;34m(\u001b[0m\u001b[0;34m)\u001b[0m\u001b[0;34m:\u001b[0m\u001b[0;34m\u001b[0m\u001b[0;34m\u001b[0m\u001b[0m\n\u001b[1;32m   3935\u001b[0m             \u001b[0;32mif\u001b[0m \u001b[0mlabels\u001b[0m \u001b[0;32mis\u001b[0m \u001b[0;32mnot\u001b[0m \u001b[0;32mNone\u001b[0m\u001b[0;34m:\u001b[0m\u001b[0;34m\u001b[0m\u001b[0;34m\u001b[0m\u001b[0m\n\u001b[0;32m-> 3936\u001b[0;31m                 \u001b[0mobj\u001b[0m \u001b[0;34m=\u001b[0m \u001b[0mobj\u001b[0m\u001b[0;34m.\u001b[0m\u001b[0m_drop_axis\u001b[0m\u001b[0;34m(\u001b[0m\u001b[0mlabels\u001b[0m\u001b[0;34m,\u001b[0m \u001b[0maxis\u001b[0m\u001b[0;34m,\u001b[0m \u001b[0mlevel\u001b[0m\u001b[0;34m=\u001b[0m\u001b[0mlevel\u001b[0m\u001b[0;34m,\u001b[0m \u001b[0merrors\u001b[0m\u001b[0;34m=\u001b[0m\u001b[0merrors\u001b[0m\u001b[0;34m)\u001b[0m\u001b[0;34m\u001b[0m\u001b[0;34m\u001b[0m\u001b[0m\n\u001b[0m\u001b[1;32m   3937\u001b[0m \u001b[0;34m\u001b[0m\u001b[0m\n\u001b[1;32m   3938\u001b[0m         \u001b[0;32mif\u001b[0m \u001b[0minplace\u001b[0m\u001b[0;34m:\u001b[0m\u001b[0;34m\u001b[0m\u001b[0;34m\u001b[0m\u001b[0m\n",
            "\u001b[0;32m/usr/local/lib/python3.6/dist-packages/pandas/core/generic.py\u001b[0m in \u001b[0;36m_drop_axis\u001b[0;34m(self, labels, axis, level, errors)\u001b[0m\n\u001b[1;32m   3968\u001b[0m                 \u001b[0mnew_axis\u001b[0m \u001b[0;34m=\u001b[0m \u001b[0maxis\u001b[0m\u001b[0;34m.\u001b[0m\u001b[0mdrop\u001b[0m\u001b[0;34m(\u001b[0m\u001b[0mlabels\u001b[0m\u001b[0;34m,\u001b[0m \u001b[0mlevel\u001b[0m\u001b[0;34m=\u001b[0m\u001b[0mlevel\u001b[0m\u001b[0;34m,\u001b[0m \u001b[0merrors\u001b[0m\u001b[0;34m=\u001b[0m\u001b[0merrors\u001b[0m\u001b[0;34m)\u001b[0m\u001b[0;34m\u001b[0m\u001b[0;34m\u001b[0m\u001b[0m\n\u001b[1;32m   3969\u001b[0m             \u001b[0;32melse\u001b[0m\u001b[0;34m:\u001b[0m\u001b[0;34m\u001b[0m\u001b[0;34m\u001b[0m\u001b[0m\n\u001b[0;32m-> 3970\u001b[0;31m                 \u001b[0mnew_axis\u001b[0m \u001b[0;34m=\u001b[0m \u001b[0maxis\u001b[0m\u001b[0;34m.\u001b[0m\u001b[0mdrop\u001b[0m\u001b[0;34m(\u001b[0m\u001b[0mlabels\u001b[0m\u001b[0;34m,\u001b[0m \u001b[0merrors\u001b[0m\u001b[0;34m=\u001b[0m\u001b[0merrors\u001b[0m\u001b[0;34m)\u001b[0m\u001b[0;34m\u001b[0m\u001b[0;34m\u001b[0m\u001b[0m\n\u001b[0m\u001b[1;32m   3971\u001b[0m             \u001b[0mresult\u001b[0m \u001b[0;34m=\u001b[0m \u001b[0mself\u001b[0m\u001b[0;34m.\u001b[0m\u001b[0mreindex\u001b[0m\u001b[0;34m(\u001b[0m\u001b[0;34m**\u001b[0m\u001b[0;34m{\u001b[0m\u001b[0maxis_name\u001b[0m\u001b[0;34m:\u001b[0m \u001b[0mnew_axis\u001b[0m\u001b[0;34m}\u001b[0m\u001b[0;34m)\u001b[0m\u001b[0;34m\u001b[0m\u001b[0;34m\u001b[0m\u001b[0m\n\u001b[1;32m   3972\u001b[0m \u001b[0;34m\u001b[0m\u001b[0m\n",
            "\u001b[0;32m/usr/local/lib/python3.6/dist-packages/pandas/core/indexes/base.py\u001b[0m in \u001b[0;36mdrop\u001b[0;34m(self, labels, errors)\u001b[0m\n\u001b[1;32m   5015\u001b[0m         \u001b[0;32mif\u001b[0m \u001b[0mmask\u001b[0m\u001b[0;34m.\u001b[0m\u001b[0many\u001b[0m\u001b[0;34m(\u001b[0m\u001b[0;34m)\u001b[0m\u001b[0;34m:\u001b[0m\u001b[0;34m\u001b[0m\u001b[0;34m\u001b[0m\u001b[0m\n\u001b[1;32m   5016\u001b[0m             \u001b[0;32mif\u001b[0m \u001b[0merrors\u001b[0m \u001b[0;34m!=\u001b[0m \u001b[0;34m\"ignore\"\u001b[0m\u001b[0;34m:\u001b[0m\u001b[0;34m\u001b[0m\u001b[0;34m\u001b[0m\u001b[0m\n\u001b[0;32m-> 5017\u001b[0;31m                 \u001b[0;32mraise\u001b[0m \u001b[0mKeyError\u001b[0m\u001b[0;34m(\u001b[0m\u001b[0;34mf\"{labels[mask]} not found in axis\"\u001b[0m\u001b[0;34m)\u001b[0m\u001b[0;34m\u001b[0m\u001b[0;34m\u001b[0m\u001b[0m\n\u001b[0m\u001b[1;32m   5018\u001b[0m             \u001b[0mindexer\u001b[0m \u001b[0;34m=\u001b[0m \u001b[0mindexer\u001b[0m\u001b[0;34m[\u001b[0m\u001b[0;34m~\u001b[0m\u001b[0mmask\u001b[0m\u001b[0;34m]\u001b[0m\u001b[0;34m\u001b[0m\u001b[0;34m\u001b[0m\u001b[0m\n\u001b[1;32m   5019\u001b[0m         \u001b[0;32mreturn\u001b[0m \u001b[0mself\u001b[0m\u001b[0;34m.\u001b[0m\u001b[0mdelete\u001b[0m\u001b[0;34m(\u001b[0m\u001b[0mindexer\u001b[0m\u001b[0;34m)\u001b[0m\u001b[0;34m\u001b[0m\u001b[0;34m\u001b[0m\u001b[0m\n",
            "\u001b[0;31mKeyError\u001b[0m: \"['Date'] not found in axis\""
          ]
        }
      ]
    },
    {
      "cell_type": "code",
      "metadata": {
        "id": "NXZ3ttUCg9fq",
        "colab_type": "code",
        "colab": {}
      },
      "source": [
        "brazil.fillna(brazil.mean())"
      ],
      "execution_count": null,
      "outputs": []
    },
    {
      "cell_type": "code",
      "metadata": {
        "id": "oDEOorfFhDzH",
        "colab_type": "code",
        "colab": {}
      },
      "source": [
        "from matplotlib import pyplot as plt\n",
        "plt.figure()\n",
        "plt.plot(brazil[\"Cases\"])"
      ],
      "execution_count": null,
      "outputs": []
    },
    {
      "cell_type": "code",
      "metadata": {
        "id": "8-xqmSFahMQf",
        "colab_type": "code",
        "colab": {}
      },
      "source": [
        "X_test_brazil=[]\n",
        "y_test_brazil=[]\n",
        "for i in range(3,118):\n",
        "  X_test_brazil.append(np.array(brazil.iloc[i-3:i,0:5]))\n",
        "  y_test_brazil.append(brazil.iloc[i][0])"
      ],
      "execution_count": null,
      "outputs": []
    },
    {
      "cell_type": "code",
      "metadata": {
        "id": "0_FscRk3hUlR",
        "colab_type": "code",
        "colab": {}
      },
      "source": [
        "X_test_brazil=np.array(X_test_brazil)\n",
        "y_test_brazil=np.array(y_test_brazil)"
      ],
      "execution_count": null,
      "outputs": []
    },
    {
      "cell_type": "code",
      "metadata": {
        "id": "FASVwS99h6mt",
        "colab_type": "code",
        "colab": {}
      },
      "source": [
        "plt.plot(model_mc.predict(X_test_brazil), label = \"predicted\")\n",
        "# function to show the plot \n",
        "plt.show()"
      ],
      "execution_count": null,
      "outputs": []
    },
    {
      "cell_type": "code",
      "metadata": {
        "id": "yv6lVsPlh-NV",
        "colab_type": "code",
        "colab": {}
      },
      "source": [
        "from matplotlib import pyplot as plt\n",
        "plt.figure()\n",
        "plt.plot(y_test_brazil)"
      ],
      "execution_count": null,
      "outputs": []
    },
    {
      "cell_type": "code",
      "metadata": {
        "id": "9UnQa1lIiD2H",
        "colab_type": "code",
        "colab": {}
      },
      "source": [
        "plt.plot(model_mc.predict(X_test_brazil), label = \"predicted\")\n",
        "plt.plot(y_test_brazil, label = \"normal\")\n",
        "plt.title('Brazil prediction vs normal') \n",
        " \n",
        "plt.legend() \n",
        "  \n",
        "# function to show the plot \n",
        "plt.show()"
      ],
      "execution_count": null,
      "outputs": []
    },
    {
      "cell_type": "code",
      "metadata": {
        "id": "znw1j_LwiJdx",
        "colab_type": "code",
        "colab": {
          "base_uri": "https://localhost:8080/",
          "height": 267
        },
        "outputId": "353fbc09-9658-4672-8a49-f4421593b560"
      },
      "source": [
        "#shuffle\n",
        "plt.plot(model_mc.predict(X_test), label = \"predicted\")\n",
        "# function to show the plot \n",
        "plt.show()"
      ],
      "execution_count": null,
      "outputs": [
        {
          "output_type": "display_data",
          "data": {
            "image/png": "[encoded data removed]",
            "text/plain": [
              "<Figure size 432x288 with 1 Axes>"
            ]
          },
          "metadata": {
            "tags": [],
            "needs_background": "light"
          }
        }
      ]
    },
    {
      "cell_type": "code",
      "metadata": {
        "id": "acvBPvWRzmkD",
        "colab_type": "code",
        "colab": {}
      },
      "source": [
        "y=[]\n",
        "c=ap.iloc[-3:,0:5]\n",
        "count=ap.iloc[-1][4]\n",
        "c=list(np.array(c))\n",
        "for i in range(0,90):\n",
        "  test=np.array([c[-3:]])\n",
        "  a=model_mc.predict(test)\n",
        "  y.append(a[0])\n",
        "  e=[a]\n",
        "  e.append(ap.iloc[0][1])\n",
        "  e.append(ap.iloc[0][2])\n",
        "  e.append(1)\n",
        "  count+=1\n",
        "  e.append(count)\n",
        "  e=np.array(e)\n",
        "  c.append(e)"
      ],
      "execution_count": null,
      "outputs": []
    },
    {
      "cell_type": "code",
      "metadata": {
        "id": "6p3WMKjZ2D0m",
        "colab_type": "code",
        "colab": {
          "base_uri": "https://localhost:8080/",
          "height": 281
        },
        "outputId": "418d6ae3-1e8c-44d8-84bf-4c0427343123"
      },
      "source": [
        "x=[]\n",
        "for i in range(0,90):\n",
        "  x.append(i)\n",
        "plt.plot(x,y, label = \"predicted\")\n",
        "plt.title('Ap recovery prediction') \n",
        "# function to show the plot \n",
        "plt.show()"
      ],
      "execution_count": null,
      "outputs": [
        {
          "output_type": "display_data",
          "data": {
            "image/png": "[encoded data removed]",
            "text/plain": [
              "<Figure size 432x288 with 1 Axes>"
            ]
          },
          "metadata": {
            "tags": [],
            "needs_background": "light"
          }
        }
      ]
    },
    {
      "cell_type": "code",
      "metadata": {
        "id": "jplmxrbx2HGI",
        "colab_type": "code",
        "colab": {}
      },
      "source": [
        "y=[]\n",
        "c=tg.iloc[-3:,0:5]\n",
        "count=tg.iloc[-1][4]\n",
        "c=list(np.array(c))\n",
        "for i in range(0,90):\n",
        "  test=np.array([c[-3:]])\n",
        "  a=model_mc.predict(test)\n",
        "  y.append(a[0])\n",
        "  e=[a]\n",
        "  e.append(tg.iloc[0][1])\n",
        "  e.append(tg.iloc[0][2])\n",
        "  e.append(1)\n",
        "  count+=1\n",
        "  e.append(count)\n",
        "  e=np.array(e)\n",
        "  c.append(e)"
      ],
      "execution_count": null,
      "outputs": []
    },
    {
      "cell_type": "code",
      "metadata": {
        "id": "VYj8vhIajz0x",
        "colab_type": "code",
        "colab": {
          "base_uri": "https://localhost:8080/",
          "height": 281
        },
        "outputId": "2cee0bdf-f822-47fe-d11e-f9d4507ffdae"
      },
      "source": [
        "x=[]\n",
        "for i in range(0,90):\n",
        "  x.append(i)\n",
        "plt.plot(x,y, label = \"predicted\")\n",
        "plt.title('TG recovery prediction') \n",
        "# function to show the plot \n",
        "plt.show()"
      ],
      "execution_count": null,
      "outputs": [
        {
          "output_type": "display_data",
          "data": {
            "image/png": "[encoded data removed]",
            "text/plain": [
              "<Figure size 432x288 with 1 Axes>"
            ]
          },
          "metadata": {
            "tags": [],
            "needs_background": "light"
          }
        }
      ]
    },
    {
      "cell_type": "code",
      "metadata": {
        "id": "tpzznTdkj2QB",
        "colab_type": "code",
        "colab": {}
      },
      "source": [
        "y=[]\n",
        "c=india.iloc[-3:,0:5]\n",
        "count=india.iloc[-1][4]\n",
        "c=list(np.array(c))\n",
        "for i in range(0,90):\n",
        "  test=np.array([c[-3:]])\n",
        "  a=model_mc.predict(test)\n",
        "  y.append(a[0])\n",
        "  e=[a]\n",
        "  e.append(india.iloc[0][1])\n",
        "  e.append(india.iloc[0][2])\n",
        "  e.append(1)\n",
        "  count+=1\n",
        "  e.append(count)\n",
        "  e=np.array(e)\n",
        "  c.append(e)"
      ],
      "execution_count": null,
      "outputs": []
    },
    {
      "cell_type": "code",
      "metadata": {
        "id": "0kASxTLhnzOX",
        "colab_type": "code",
        "colab": {
          "base_uri": "https://localhost:8080/",
          "height": 265
        },
        "outputId": "91dd410e-784c-49ae-bbd6-2dcd9e654d34"
      },
      "source": [
        "x=[]\n",
        "for i in range(0,90):\n",
        "  x.append(i)\n",
        "plt.plot(x,y, label = \"predicted\")\n",
        "# function to show the plot \n",
        "plt.show()"
      ],
      "execution_count": null,
      "outputs": [
        {
          "output_type": "display_data",
          "data": {
            "image/png": "[encoded data removed]",
            "text/plain": [
              "<Figure size 432x288 with 1 Axes>"
            ]
          },
          "metadata": {
            "tags": [],
            "needs_background": "light"
          }
        }
      ]
    },
    {
      "cell_type": "code",
      "metadata": {
        "id": "Y5TGU0ihoJJc",
        "colab_type": "code",
        "colab": {}
      },
      "source": [
        "y=[]\n",
        "c=brazil.iloc[-3:,0:5]\n",
        "count=brazil.iloc[-1][4]\n",
        "c=list(np.array(c))\n",
        "for i in range(0,90):\n",
        "  test=np.array([c[-3:]])\n",
        "  a=model_mc.predict(test)\n",
        "  y.append(a[0])\n",
        "  e=[a]\n",
        "  e.append(brazil.iloc[0][1])\n",
        "  e.append(brazil.iloc[0][2])\n",
        "  e.append(1)\n",
        "  count+=1\n",
        "  e.append(count)\n",
        "  e=np.array(e)\n",
        "  c.append(e)"
      ],
      "execution_count": null,
      "outputs": []
    },
    {
      "cell_type": "code",
      "metadata": {
        "id": "Yutl3TijofOJ",
        "colab_type": "code",
        "colab": {
          "base_uri": "https://localhost:8080/",
          "height": 265
        },
        "outputId": "3929f346-8d7b-4ec9-c975-4bfab625f6a4"
      },
      "source": [
        "x=[]\n",
        "for i in range(0,90):\n",
        "  x.append(i)\n",
        "plt.plot(x,y, label = \"predicted\")\n",
        "# function to show the plot \n",
        "plt.show()"
      ],
      "execution_count": null,
      "outputs": [
        {
          "output_type": "display_data",
          "data": {
            "image/png": "[encoded data removed]",
            "text/plain": [
              "<Figure size 432x288 with 1 Axes>"
            ]
          },
          "metadata": {
            "tags": [],
            "needs_background": "light"
          }
        }
      ]
    },
    {
      "cell_type": "code",
      "metadata": {
        "id": "95VeJKtiohDR",
        "colab_type": "code",
        "colab": {}
      },
      "source": [
        ""
      ],
      "execution_count": null,
      "outputs": []
    }
  ]
}